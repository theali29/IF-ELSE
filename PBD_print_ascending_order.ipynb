{
 "cells": [
  {
   "cell_type": "code",
   "execution_count": 17,
   "id": "d1709241",
   "metadata": {},
   "outputs": [
    {
     "name": "stdout",
     "output_type": "stream",
     "text": [
      "Enter an input:asc\n",
      "[0, 1, 2, 3, 4]\n"
     ]
    }
   ],
   "source": [
    "# Create a function in Python that accepts two parameters.\n",
    "#The first will be a list of numbers. The second parameter will be a string that can be one of the following values:\n",
    "#asc, desc, and noneIf the second parameter is \"asc,\" then the function \n",
    "#should return a list with the numbers in ascending order. \n",
    "#If it's \"desc,\" then the list should be in descending order,\n",
    "#and if it's \"none,\" it should return the original list unaltered."
   ]
  },
  {
   "cell_type": "code",
   "execution_count": null,
   "id": "577c3268",
   "metadata": {},
   "outputs": [],
   "source": [
    "def func(lst,py):\n",
    "    \n",
    "    if py==\"asc\":\n",
    "        lst.sort()\n",
    "        print(lst)\n",
    "    \n",
    "    elif py==\"dsc\":\n",
    "        lst.sort(reverse=True)\n",
    "        print(lst)\n",
    "    elif py=='none':\n",
    "        print(\"Ok no Sorting\")\n",
    "    \n",
    "    else:\n",
    "        print(\"wrong input\")\n",
    "    \n",
    "\n",
    "lst=[0,4,2,3,1]\n",
    "str=input(\"Enter an input:\")\n",
    "func(lst,str)"
   ]
  },
  {
   "cell_type": "code",
   "execution_count": null,
   "id": "3d2fef04",
   "metadata": {},
   "outputs": [],
   "source": []
  }
 ],
 "metadata": {
  "kernelspec": {
   "display_name": "Python 3 (ipykernel)",
   "language": "python",
   "name": "python3"
  },
  "language_info": {
   "codemirror_mode": {
    "name": "ipython",
    "version": 3
   },
   "file_extension": ".py",
   "mimetype": "text/x-python",
   "name": "python",
   "nbconvert_exporter": "python",
   "pygments_lexer": "ipython3",
   "version": "3.9.7"
  }
 },
 "nbformat": 4,
 "nbformat_minor": 5
}
