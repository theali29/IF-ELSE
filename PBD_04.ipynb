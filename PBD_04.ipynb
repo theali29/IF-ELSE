{
 "cells": [
  {
   "cell_type": "markdown",
   "id": "e4220c82",
   "metadata": {},
   "source": [
    "# Lecture 4- String"
   ]
  },
  {
   "cell_type": "code",
   "execution_count": 1,
   "id": "acd11ab5",
   "metadata": {},
   "outputs": [],
   "source": [
    "ucp=\"University Of Central Punjab\""
   ]
  },
  {
   "cell_type": "code",
   "execution_count": 2,
   "id": "3c44cdb8",
   "metadata": {},
   "outputs": [
    {
     "data": {
      "text/plain": [
       "str"
      ]
     },
     "execution_count": 2,
     "metadata": {},
     "output_type": "execute_result"
    }
   ],
   "source": [
    "type(ucp)"
   ]
  },
  {
   "cell_type": "code",
   "execution_count": 3,
   "id": "442cb0fa",
   "metadata": {},
   "outputs": [
    {
     "data": {
      "text/plain": [
       "'U'"
      ]
     },
     "execution_count": 3,
     "metadata": {},
     "output_type": "execute_result"
    }
   ],
   "source": [
    "ucp[0]"
   ]
  },
  {
   "cell_type": "code",
   "execution_count": 4,
   "id": "5a3257c1",
   "metadata": {},
   "outputs": [
    {
     "name": "stdout",
     "output_type": "stream",
     "text": [
      "U\n"
     ]
    }
   ],
   "source": [
    "print(ucp[0])"
   ]
  },
  {
   "cell_type": "code",
   "execution_count": 5,
   "id": "e36e6275",
   "metadata": {},
   "outputs": [
    {
     "data": {
      "text/plain": [
       "'b'"
      ]
     },
     "execution_count": 5,
     "metadata": {},
     "output_type": "execute_result"
    }
   ],
   "source": [
    "ucp[-1]"
   ]
  },
  {
   "cell_type": "code",
   "execution_count": 6,
   "id": "12cbfe52",
   "metadata": {},
   "outputs": [
    {
     "data": {
      "text/plain": [
       "'Punjab'"
      ]
     },
     "execution_count": 6,
     "metadata": {},
     "output_type": "execute_result"
    }
   ],
   "source": [
    "ucp[-6:]"
   ]
  },
  {
   "cell_type": "code",
   "execution_count": 7,
   "id": "32da9c79",
   "metadata": {},
   "outputs": [
    {
     "data": {
      "text/plain": [
       "'Pun'"
      ]
     },
     "execution_count": 7,
     "metadata": {},
     "output_type": "execute_result"
    }
   ],
   "source": [
    "ucp[-6:-3]"
   ]
  },
  {
   "cell_type": "code",
   "execution_count": 8,
   "id": "3817eba5",
   "metadata": {},
   "outputs": [
    {
     "data": {
      "text/plain": [
       "'University'"
      ]
     },
     "execution_count": 8,
     "metadata": {},
     "output_type": "execute_result"
    }
   ],
   "source": [
    "ucp[0:10]"
   ]
  },
  {
   "cell_type": "code",
   "execution_count": 9,
   "id": "4f0c2aa2",
   "metadata": {},
   "outputs": [
    {
     "data": {
      "text/plain": [
       "'University Of Central Punjab'"
      ]
     },
     "execution_count": 9,
     "metadata": {},
     "output_type": "execute_result"
    }
   ],
   "source": [
    "ucp[0:]"
   ]
  },
  {
   "cell_type": "code",
   "execution_count": 10,
   "id": "44be2b9c",
   "metadata": {},
   "outputs": [
    {
     "data": {
      "text/plain": [
       "' Of Central Punjab'"
      ]
     },
     "execution_count": 10,
     "metadata": {},
     "output_type": "execute_result"
    }
   ],
   "source": [
    "ucp[10:]"
   ]
  },
  {
   "cell_type": "code",
   "execution_count": 11,
   "id": "e85b76b2",
   "metadata": {},
   "outputs": [
    {
     "data": {
      "text/plain": [
       "'Uiest'"
      ]
     },
     "execution_count": 11,
     "metadata": {},
     "output_type": "execute_result"
    }
   ],
   "source": [
    "ucp[0:10:2] #first is starting index,second is last index and third ios increment"
   ]
  },
  {
   "cell_type": "code",
   "execution_count": 12,
   "id": "c4c742bd",
   "metadata": {},
   "outputs": [],
   "source": [
    "city=\"Lahore\""
   ]
  },
  {
   "cell_type": "code",
   "execution_count": 13,
   "id": "80e894d7",
   "metadata": {},
   "outputs": [],
   "source": [
    "ucp=ucp+\" \"+city"
   ]
  },
  {
   "cell_type": "code",
   "execution_count": 14,
   "id": "47be7cfa",
   "metadata": {},
   "outputs": [
    {
     "data": {
      "text/plain": [
       "'University Of Central Punjab Lahore'"
      ]
     },
     "execution_count": 14,
     "metadata": {},
     "output_type": "execute_result"
    }
   ],
   "source": [
    "ucp\n"
   ]
  },
  {
   "cell_type": "code",
   "execution_count": 15,
   "id": "473cee05",
   "metadata": {},
   "outputs": [],
   "source": [
    "pk=\", Pakistan\""
   ]
  },
  {
   "cell_type": "code",
   "execution_count": 16,
   "id": "fa52371b",
   "metadata": {},
   "outputs": [],
   "source": [
    "ucp=ucp+pk"
   ]
  },
  {
   "cell_type": "code",
   "execution_count": 17,
   "id": "e3216ed5",
   "metadata": {},
   "outputs": [
    {
     "data": {
      "text/plain": [
       "'University Of Central Punjab Lahore, Pakistan'"
      ]
     },
     "execution_count": 17,
     "metadata": {},
     "output_type": "execute_result"
    }
   ],
   "source": [
    "ucp"
   ]
  },
  {
   "cell_type": "code",
   "execution_count": 18,
   "id": "422ee76b",
   "metadata": {},
   "outputs": [
    {
     "data": {
      "text/plain": [
       "'university of central punjab lahore, pakistan'"
      ]
     },
     "execution_count": 18,
     "metadata": {},
     "output_type": "execute_result"
    }
   ],
   "source": [
    "ucp.lower()"
   ]
  },
  {
   "cell_type": "code",
   "execution_count": 19,
   "id": "c54a2a0e",
   "metadata": {},
   "outputs": [
    {
     "data": {
      "text/plain": [
       "'UNIVERSITY OF CENTRAL PUNJAB LAHORE, PAKISTAN'"
      ]
     },
     "execution_count": 19,
     "metadata": {},
     "output_type": "execute_result"
    }
   ],
   "source": [
    "ucp.upper()"
   ]
  },
  {
   "cell_type": "code",
   "execution_count": 22,
   "id": "8c5779ec",
   "metadata": {},
   "outputs": [
    {
     "data": {
      "text/plain": [
       "'University Of Central Punjab Lahore, Pakistan'"
      ]
     },
     "execution_count": 22,
     "metadata": {},
     "output_type": "execute_result"
    }
   ],
   "source": [
    "ucp.title()"
   ]
  },
  {
   "cell_type": "code",
   "execution_count": 23,
   "id": "63abffcb",
   "metadata": {},
   "outputs": [
    {
     "data": {
      "text/plain": [
       "'university'"
      ]
     },
     "execution_count": 23,
     "metadata": {},
     "output_type": "execute_result"
    }
   ],
   "source": [
    "ucp[0:10].lower()"
   ]
  },
  {
   "cell_type": "code",
   "execution_count": 24,
   "id": "ea06d189",
   "metadata": {},
   "outputs": [
    {
     "data": {
      "text/plain": [
       "False"
      ]
     },
     "execution_count": 24,
     "metadata": {},
     "output_type": "execute_result"
    }
   ],
   "source": [
    "'c' in ucp"
   ]
  },
  {
   "cell_type": "code",
   "execution_count": 25,
   "id": "736475d7",
   "metadata": {},
   "outputs": [
    {
     "data": {
      "text/plain": [
       "True"
      ]
     },
     "execution_count": 25,
     "metadata": {},
     "output_type": "execute_result"
    }
   ],
   "source": [
    "'C' in ucp"
   ]
  },
  {
   "cell_type": "code",
   "execution_count": 26,
   "id": "8f1dc11a",
   "metadata": {},
   "outputs": [
    {
     "data": {
      "text/plain": [
       "True"
      ]
     },
     "execution_count": 26,
     "metadata": {},
     "output_type": "execute_result"
    }
   ],
   "source": [
    "'oo' not in ucp"
   ]
  },
  {
   "cell_type": "code",
   "execution_count": 31,
   "id": "18bd3ffc",
   "metadata": {},
   "outputs": [
    {
     "name": "stdout",
     "output_type": "stream",
     "text": [
      "Aow\n",
      "Aow\n",
      "Aow\n",
      "Aow\n",
      "Aow\n",
      "Aow\n",
      "Aow\n",
      "Aow\n",
      "Aow\n",
      "Aow\n",
      "Aow\n",
      "Aow\n",
      "Aow\n",
      "Aow\n",
      "Aow\n",
      "Aow\n",
      "Aow\n",
      "Aow\n",
      "Aow\n",
      "Aow\n",
      "Aow\n",
      "Aow\n",
      "Aow\n",
      "Aow\n",
      "Aow\n",
      "Aow\n",
      "Aow\n",
      "Aow\n",
      "Aow\n",
      "Aow\n",
      "Aow\n",
      "Aow\n",
      "Wow\n",
      "Aow\n",
      "Aow\n",
      "Aow\n",
      "Aow\n",
      "Aow\n",
      "Aow\n",
      "Aow\n",
      "Aow\n",
      "Aow\n",
      "Aow\n",
      "Aow\n",
      "Aow\n"
     ]
    }
   ],
   "source": [
    "for w in ucp:\n",
    "    if w== 'o':\n",
    "        print('Wow')\n",
    "    else:\n",
    "        print(\"Aow\")"
   ]
  },
  {
   "cell_type": "code",
   "execution_count": 32,
   "id": "17030459",
   "metadata": {},
   "outputs": [
    {
     "data": {
      "text/plain": [
       "45"
      ]
     },
     "execution_count": 32,
     "metadata": {},
     "output_type": "execute_result"
    }
   ],
   "source": [
    "len(ucp)"
   ]
  },
  {
   "cell_type": "code",
   "execution_count": 33,
   "id": "65343849",
   "metadata": {},
   "outputs": [],
   "source": [
    "def length(a):\n",
    "    ct= 0\n",
    "    for w in a:\n",
    "        ct=ct+1\n",
    "    return ct"
   ]
  },
  {
   "cell_type": "code",
   "execution_count": 34,
   "id": "6440592d",
   "metadata": {},
   "outputs": [
    {
     "data": {
      "text/plain": [
       "45"
      ]
     },
     "execution_count": 34,
     "metadata": {},
     "output_type": "execute_result"
    }
   ],
   "source": [
    "length(ucp)"
   ]
  },
  {
   "cell_type": "code",
   "execution_count": 35,
   "id": "a0cc77aa",
   "metadata": {},
   "outputs": [
    {
     "data": {
      "text/plain": [
       "['University', 'Of', 'Central', 'Punjab', 'Lahore,', 'Pakistan']"
      ]
     },
     "execution_count": 35,
     "metadata": {},
     "output_type": "execute_result"
    }
   ],
   "source": [
    "ucp.split(\" \")"
   ]
  },
  {
   "cell_type": "code",
   "execution_count": 36,
   "id": "bb6fec23",
   "metadata": {},
   "outputs": [],
   "source": [
    "ucpHistory=\"On 15 August 1996, The Punjab Group of Colleges petitioned Government of Punjab for the establishment of a university in the province. \\Punjab Institute of Computer Science (PICS), Punjab College of Commerce (PCC), Punjab Law College (PLC) and Punjab College of Information Technology (PCIT) formed the core of the university at the time of establishment.Following a restructuring in 2004, the PCBA and PICS operate under the Faculty of Management Studies and Faculty of Information Technology of the University of Central Punjab respectively. The Punjab Colleges of Commerce and the Punjab Law College respectively function under the Faculties of Commerce and of Law of the University of Central Punjab. The Faculty of Engineering (FOE) was introduced in 2002.\""
   ]
  },
  {
   "cell_type": "code",
   "execution_count": 37,
   "id": "2b27b356",
   "metadata": {},
   "outputs": [
    {
     "data": {
      "text/plain": [
       "'On 15 August 1996, The Punjab Group of Colleges petitioned Government of Punjab for the establishment of a university in the province. \\\\Punjab Institute of Computer Science (PICS), Punjab College of Commerce (PCC), Punjab Law College (PLC) and Punjab College of Information Technology (PCIT) formed the core of the university at the time of establishment.Following a restructuring in 2004, the PCBA and PICS operate under the Faculty of Management Studies and Faculty of Information Technology of the University of Central Punjab respectively. The Punjab Colleges of Commerce and the Punjab Law College respectively function under the Faculties of Commerce and of Law of the University of Central Punjab. The Faculty of Engineering (FOE) was introduced in 2002.'"
      ]
     },
     "execution_count": 37,
     "metadata": {},
     "output_type": "execute_result"
    }
   ],
   "source": [
    "ucpHistory"
   ]
  },
  {
   "cell_type": "code",
   "execution_count": 38,
   "id": "30c019b3",
   "metadata": {},
   "outputs": [],
   "source": [
    "#Task 1: Count total words without length function\n",
    "#Task2 : Remove \"of\" without built in functions"
   ]
  },
  {
   "cell_type": "code",
   "execution_count": 45,
   "id": "8a14c338",
   "metadata": {},
   "outputs": [],
   "source": [
    "def length(a):\n",
    "    ct=0\n",
    "    for w in a:\n",
    "        if w==\" \":\n",
    "            ct=ct+1\n",
    "    return ct      "
   ]
  },
  {
   "cell_type": "code",
   "execution_count": 46,
   "id": "3baf5d80",
   "metadata": {},
   "outputs": [
    {
     "data": {
      "text/plain": [
       "116"
      ]
     },
     "execution_count": 46,
     "metadata": {},
     "output_type": "execute_result"
    }
   ],
   "source": [
    "length(ucpHistory)"
   ]
  },
  {
   "cell_type": "code",
   "execution_count": 69,
   "id": "9b49e505",
   "metadata": {},
   "outputs": [],
   "source": [
    "w='o'\n",
    "def remove(a):\n",
    "   \n",
    "    for w in a:\n",
    "        if w!=of:\n",
    "             print(w)\n",
    "          "
   ]
  },
  {
   "cell_type": "code",
   "execution_count": 66,
   "id": "aca6997a",
   "metadata": {},
   "outputs": [
    {
     "name": "stdout",
     "output_type": "stream",
     "text": [
      "O\n",
      "n\n",
      " \n",
      "1\n",
      "5\n",
      " \n",
      "A\n",
      "u\n",
      "g\n",
      "u\n",
      "s\n",
      "t\n",
      " \n",
      "1\n",
      "9\n",
      "9\n",
      "6\n",
      ",\n",
      " \n",
      "T\n",
      "h\n",
      "e\n",
      " \n",
      "P\n",
      "u\n",
      "n\n",
      "j\n",
      "a\n",
      "b\n",
      " \n",
      "G\n",
      "r\n",
      "u\n",
      "p\n",
      " \n",
      " \n",
      "C\n",
      "l\n",
      "l\n",
      "e\n",
      "g\n",
      "e\n",
      "s\n",
      " \n",
      "p\n",
      "e\n",
      "t\n",
      "i\n",
      "t\n",
      "i\n",
      "n\n",
      "e\n",
      "d\n",
      " \n",
      "G\n",
      "v\n",
      "e\n",
      "r\n",
      "n\n",
      "m\n",
      "e\n",
      "n\n",
      "t\n",
      " \n",
      " \n",
      "P\n",
      "u\n",
      "n\n",
      "j\n",
      "a\n",
      "b\n",
      " \n",
      "r\n",
      " \n",
      "t\n",
      "h\n",
      "e\n",
      " \n",
      "e\n",
      "s\n",
      "t\n",
      "a\n",
      "b\n",
      "l\n",
      "i\n",
      "s\n",
      "h\n",
      "m\n",
      "e\n",
      "n\n",
      "t\n",
      " \n",
      " \n",
      "a\n",
      " \n",
      "u\n",
      "n\n",
      "i\n",
      "v\n",
      "e\n",
      "r\n",
      "s\n",
      "i\n",
      "t\n",
      "y\n",
      " \n",
      "i\n",
      "n\n",
      " \n",
      "t\n",
      "h\n",
      "e\n",
      " \n",
      "p\n",
      "r\n",
      "v\n",
      "i\n",
      "n\n",
      "c\n",
      "e\n",
      ".\n",
      " \n",
      "\\\n",
      "P\n",
      "u\n",
      "n\n",
      "j\n",
      "a\n",
      "b\n",
      " \n",
      "I\n",
      "n\n",
      "s\n",
      "t\n",
      "i\n",
      "t\n",
      "u\n",
      "t\n",
      "e\n",
      " \n",
      " \n",
      "C\n",
      "m\n",
      "p\n",
      "u\n",
      "t\n",
      "e\n",
      "r\n",
      " \n",
      "S\n",
      "c\n",
      "i\n",
      "e\n",
      "n\n",
      "c\n",
      "e\n",
      " \n",
      "(\n",
      "P\n",
      "I\n",
      "C\n",
      "S\n",
      ")\n",
      ",\n",
      " \n",
      "P\n",
      "u\n",
      "n\n",
      "j\n",
      "a\n",
      "b\n",
      " \n",
      "C\n",
      "l\n",
      "l\n",
      "e\n",
      "g\n",
      "e\n",
      " \n",
      " \n",
      "C\n",
      "m\n",
      "m\n",
      "e\n",
      "r\n",
      "c\n",
      "e\n",
      " \n",
      "(\n",
      "P\n",
      "C\n",
      "C\n",
      ")\n",
      ",\n",
      " \n",
      "P\n",
      "u\n",
      "n\n",
      "j\n",
      "a\n",
      "b\n",
      " \n",
      "L\n",
      "a\n",
      "w\n",
      " \n",
      "C\n",
      "l\n",
      "l\n",
      "e\n",
      "g\n",
      "e\n",
      " \n",
      "(\n",
      "P\n",
      "L\n",
      "C\n",
      ")\n",
      " \n",
      "a\n",
      "n\n",
      "d\n",
      " \n",
      "P\n",
      "u\n",
      "n\n",
      "j\n",
      "a\n",
      "b\n",
      " \n",
      "C\n",
      "l\n",
      "l\n",
      "e\n",
      "g\n",
      "e\n",
      " \n",
      " \n",
      "I\n",
      "n\n",
      "r\n",
      "m\n",
      "a\n",
      "t\n",
      "i\n",
      "n\n",
      " \n",
      "T\n",
      "e\n",
      "c\n",
      "h\n",
      "n\n",
      "l\n",
      "g\n",
      "y\n",
      " \n",
      "(\n",
      "P\n",
      "C\n",
      "I\n",
      "T\n",
      ")\n",
      " \n",
      "r\n",
      "m\n",
      "e\n",
      "d\n",
      " \n",
      "t\n",
      "h\n",
      "e\n",
      " \n",
      "c\n",
      "r\n",
      "e\n",
      " \n",
      " \n",
      "t\n",
      "h\n",
      "e\n",
      " \n",
      "u\n",
      "n\n",
      "i\n",
      "v\n",
      "e\n",
      "r\n",
      "s\n",
      "i\n",
      "t\n",
      "y\n",
      " \n",
      "a\n",
      "t\n",
      " \n",
      "t\n",
      "h\n",
      "e\n",
      " \n",
      "t\n",
      "i\n",
      "m\n",
      "e\n",
      " \n",
      " \n",
      "e\n",
      "s\n",
      "t\n",
      "a\n",
      "b\n",
      "l\n",
      "i\n",
      "s\n",
      "h\n",
      "m\n",
      "e\n",
      "n\n",
      "t\n",
      ".\n",
      "F\n",
      "l\n",
      "l\n",
      "w\n",
      "i\n",
      "n\n",
      "g\n",
      " \n",
      "a\n",
      " \n",
      "r\n",
      "e\n",
      "s\n",
      "t\n",
      "r\n",
      "u\n",
      "c\n",
      "t\n",
      "u\n",
      "r\n",
      "i\n",
      "n\n",
      "g\n",
      " \n",
      "i\n",
      "n\n",
      " \n",
      "2\n",
      "0\n",
      "0\n",
      "4\n",
      ",\n",
      " \n",
      "t\n",
      "h\n",
      "e\n",
      " \n",
      "P\n",
      "C\n",
      "B\n",
      "A\n",
      " \n",
      "a\n",
      "n\n",
      "d\n",
      " \n",
      "P\n",
      "I\n",
      "C\n",
      "S\n",
      " \n",
      "p\n",
      "e\n",
      "r\n",
      "a\n",
      "t\n",
      "e\n",
      " \n",
      "u\n",
      "n\n",
      "d\n",
      "e\n",
      "r\n",
      " \n",
      "t\n",
      "h\n",
      "e\n",
      " \n",
      "F\n",
      "a\n",
      "c\n",
      "u\n",
      "l\n",
      "t\n",
      "y\n",
      " \n",
      " \n",
      "M\n",
      "a\n",
      "n\n",
      "a\n",
      "g\n",
      "e\n",
      "m\n",
      "e\n",
      "n\n",
      "t\n",
      " \n",
      "S\n",
      "t\n",
      "u\n",
      "d\n",
      "i\n",
      "e\n",
      "s\n",
      " \n",
      "a\n",
      "n\n",
      "d\n",
      " \n",
      "F\n",
      "a\n",
      "c\n",
      "u\n",
      "l\n",
      "t\n",
      "y\n",
      " \n",
      " \n",
      "I\n",
      "n\n",
      "r\n",
      "m\n",
      "a\n",
      "t\n",
      "i\n",
      "n\n",
      " \n",
      "T\n",
      "e\n",
      "c\n",
      "h\n",
      "n\n",
      "l\n",
      "g\n",
      "y\n",
      " \n",
      " \n",
      "t\n",
      "h\n",
      "e\n",
      " \n",
      "U\n",
      "n\n",
      "i\n",
      "v\n",
      "e\n",
      "r\n",
      "s\n",
      "i\n",
      "t\n",
      "y\n",
      " \n",
      " \n",
      "C\n",
      "e\n",
      "n\n",
      "t\n",
      "r\n",
      "a\n",
      "l\n",
      " \n",
      "P\n",
      "u\n",
      "n\n",
      "j\n",
      "a\n",
      "b\n",
      " \n",
      "r\n",
      "e\n",
      "s\n",
      "p\n",
      "e\n",
      "c\n",
      "t\n",
      "i\n",
      "v\n",
      "e\n",
      "l\n",
      "y\n",
      ".\n",
      " \n",
      "T\n",
      "h\n",
      "e\n",
      " \n",
      "P\n",
      "u\n",
      "n\n",
      "j\n",
      "a\n",
      "b\n",
      " \n",
      "C\n",
      "l\n",
      "l\n",
      "e\n",
      "g\n",
      "e\n",
      "s\n",
      " \n",
      " \n",
      "C\n",
      "m\n",
      "m\n",
      "e\n",
      "r\n",
      "c\n",
      "e\n",
      " \n",
      "a\n",
      "n\n",
      "d\n",
      " \n",
      "t\n",
      "h\n",
      "e\n",
      " \n",
      "P\n",
      "u\n",
      "n\n",
      "j\n",
      "a\n",
      "b\n",
      " \n",
      "L\n",
      "a\n",
      "w\n",
      " \n",
      "C\n",
      "l\n",
      "l\n",
      "e\n",
      "g\n",
      "e\n",
      " \n",
      "r\n",
      "e\n",
      "s\n",
      "p\n",
      "e\n",
      "c\n",
      "t\n",
      "i\n",
      "v\n",
      "e\n",
      "l\n",
      "y\n",
      " \n",
      "u\n",
      "n\n",
      "c\n",
      "t\n",
      "i\n",
      "n\n",
      " \n",
      "u\n",
      "n\n",
      "d\n",
      "e\n",
      "r\n",
      " \n",
      "t\n",
      "h\n",
      "e\n",
      " \n",
      "F\n",
      "a\n",
      "c\n",
      "u\n",
      "l\n",
      "t\n",
      "i\n",
      "e\n",
      "s\n",
      " \n",
      " \n",
      "C\n",
      "m\n",
      "m\n",
      "e\n",
      "r\n",
      "c\n",
      "e\n",
      " \n",
      "a\n",
      "n\n",
      "d\n",
      " \n",
      " \n",
      "L\n",
      "a\n",
      "w\n",
      " \n",
      " \n",
      "t\n",
      "h\n",
      "e\n",
      " \n",
      "U\n",
      "n\n",
      "i\n",
      "v\n",
      "e\n",
      "r\n",
      "s\n",
      "i\n",
      "t\n",
      "y\n",
      " \n",
      " \n",
      "C\n",
      "e\n",
      "n\n",
      "t\n",
      "r\n",
      "a\n",
      "l\n",
      " \n",
      "P\n",
      "u\n",
      "n\n",
      "j\n",
      "a\n",
      "b\n",
      ".\n",
      " \n",
      "T\n",
      "h\n",
      "e\n",
      " \n",
      "F\n",
      "a\n",
      "c\n",
      "u\n",
      "l\n",
      "t\n",
      "y\n",
      " \n",
      " \n",
      "E\n",
      "n\n",
      "g\n",
      "i\n",
      "n\n",
      "e\n",
      "e\n",
      "r\n",
      "i\n",
      "n\n",
      "g\n",
      " \n",
      "(\n",
      "F\n",
      "O\n",
      "E\n",
      ")\n",
      " \n",
      "w\n",
      "a\n",
      "s\n",
      " \n",
      "i\n",
      "n\n",
      "t\n",
      "r\n",
      "d\n",
      "u\n",
      "c\n",
      "e\n",
      "d\n",
      " \n",
      "i\n",
      "n\n",
      " \n",
      "2\n",
      "0\n",
      "0\n",
      "2\n",
      ".\n"
     ]
    }
   ],
   "source": [
    "remove(ucpHistory)"
   ]
  },
  {
   "cell_type": "code",
   "execution_count": null,
   "id": "a60eea70",
   "metadata": {},
   "outputs": [],
   "source": []
  }
 ],
 "metadata": {
  "kernelspec": {
   "display_name": "Python 3",
   "language": "python",
   "name": "python3"
  },
  "language_info": {
   "codemirror_mode": {
    "name": "ipython",
    "version": 3
   },
   "file_extension": ".py",
   "mimetype": "text/x-python",
   "name": "python",
   "nbconvert_exporter": "python",
   "pygments_lexer": "ipython3",
   "version": "3.8.8"
  }
 },
 "nbformat": 4,
 "nbformat_minor": 5
}
