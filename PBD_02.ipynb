{
 "cells": [
  {
   "cell_type": "code",
   "execution_count": 1,
   "id": "a2eafc89",
   "metadata": {},
   "outputs": [
    {
     "name": "stdout",
     "output_type": "stream",
     "text": [
      "1\n",
      "3\n",
      "5\n",
      "7\n",
      "9\n"
     ]
    }
   ],
   "source": [
    "for x in range (1,10,2):\n",
    "    print(x)"
   ]
  },
  {
   "cell_type": "code",
   "execution_count": 2,
   "id": "17cc3406",
   "metadata": {},
   "outputs": [
    {
     "ename": "SyntaxError",
     "evalue": "EOL while scanning string literal (<ipython-input-2-5d285c558303>, line 6)",
     "output_type": "error",
     "traceback": [
      "\u001b[1;36m  File \u001b[1;32m\"<ipython-input-2-5d285c558303>\"\u001b[1;36m, line \u001b[1;32m6\u001b[0m\n\u001b[1;33m    \"\"\"\"\u001b[0m\n\u001b[1;37m        \n^\u001b[0m\n\u001b[1;31mSyntaxError\u001b[0m\u001b[1;31m:\u001b[0m EOL while scanning string literal\n"
     ]
    }
   ],
   "source": [
    "\"\"\"\"\n",
    " 1: git add .\n",
    " 2: git status\n",
    " 3: git commit -m \"Upload IF-ELSE Question with solutions \"\n",
    " 4: git push -u\n",
    "\"\"\"\""
   ]
  },
  {
   "cell_type": "code",
   "execution_count": 5,
   "id": "43eb3e20",
   "metadata": {},
   "outputs": [
    {
     "name": "stdout",
     "output_type": "stream",
     "text": [
      "Enter x value:\n",
      "50\n",
      "2 4 6 8 10 12 14 16 18 20 22 24 26 28 30 32 34 36 38 40 42 44 46 48 "
     ]
    }
   ],
   "source": [
    "x=int(input(\"Enter x value:\\n\"))\n",
    "for x in range(2,x,2):\n",
    "     print(x,end=\" \")"
   ]
  },
  {
   "cell_type": "code",
   "execution_count": 8,
   "id": "2e88cf30",
   "metadata": {},
   "outputs": [
    {
     "name": "stdout",
     "output_type": "stream",
     "text": [
      "50 48 46 44 42 40 38 36 34 32 30 28 26 24 22 20 18 16 14 12 10 8 6 4 2 "
     ]
    }
   ],
   "source": [
    "for x in range(50,0,-2):\n",
    "    print(x,end=\" \")"
   ]
  },
  {
   "cell_type": "code",
   "execution_count": 9,
   "id": "6bf15936",
   "metadata": {},
   "outputs": [
    {
     "name": "stdout",
     "output_type": "stream",
     "text": [
      "Enter x value:\n",
      "7\n",
      "7 is  a prime number\n"
     ]
    }
   ],
   "source": [
    "# Prime Numbers..........\n",
    "f=False\n",
    "x=(int(input(\"Enter x value:\\n\")))\n",
    "for i in range(2,x,1):\n",
    "    if x % i==0:\n",
    "        f=True\n",
    "if f:\n",
    "     print(x,\"is not a prime number\")\n",
    "else:\n",
    "     print(x,\"is  a prime number\")"
   ]
  },
  {
   "cell_type": "code",
   "execution_count": null,
   "id": "d5f85a92",
   "metadata": {},
   "outputs": [],
   "source": [
    "x=(int(input(\"Enter x value:\\n\")))\n",
    "x=x/1000\n",
    "x=int(x)\n",
    "if(not x%2):\n",
    "    print(\"Even\")\n",
    "else:\n",
    "    print(\"Odd\")"
   ]
  },
  {
   "cell_type": "code",
   "execution_count": 12,
   "id": "6c9b9720",
   "metadata": {},
   "outputs": [
    {
     "name": "stdout",
     "output_type": "stream",
     "text": [
      "Enter x value:\n",
      "50\n",
      "Odd\n"
     ]
    }
   ],
   "source": [
    "x=(int(input(\"Enter x value:\\n\")))\n",
    "while x>=10:\n",
    "     x=x//10\n",
    "if x % 2 == 0:\n",
    "    print(\"Even\")\n",
    "else:\n",
    "    print(\"Odd\")"
   ]
  },
  {
   "cell_type": "code",
   "execution_count": 13,
   "id": "7b16f66a",
   "metadata": {},
   "outputs": [],
   "source": [
    "#even++\n",
    "#ct+=1\n",
    "#ct=ct+1"
   ]
  },
  {
   "cell_type": "code",
   "execution_count": 24,
   "id": "d3af3d64",
   "metadata": {},
   "outputs": [
    {
     "name": "stdout",
     "output_type": "stream",
     "text": [
      "Enter x value:\n",
      "4567\n",
      "There are   2 odd numbers:\n",
      "\n",
      "There are  2 even number:\n",
      "\n"
     ]
    }
   ],
   "source": [
    "x=(int(input(\"Enter x value:\\n\")))\n",
    "ct1=0\n",
    "ct2=0\n",
    "while x>1:\n",
    "    y=x%10\n",
    "    x=x/10\n",
    "    y=int(y)\n",
    "    if y % 2 == 0:\n",
    "        ct1=ct1+1\n",
    "       \n",
    "    else:\n",
    "        ct2=ct2+1\n",
    "        \n",
    "        \n",
    "print(\"There are  \",ct2,\"odd numbers:\\n\") \n",
    "print(\"There are \",ct1,\"even number:\\n\")"
   ]
  },
  {
   "cell_type": "code",
   "execution_count": 25,
   "id": "86ed0953",
   "metadata": {},
   "outputs": [
    {
     "ename": "SyntaxError",
     "evalue": "unexpected EOF while parsing (<ipython-input-25-ec645e7bc384>, line 2)",
     "output_type": "error",
     "traceback": [
      "\u001b[1;36m  File \u001b[1;32m\"<ipython-input-25-ec645e7bc384>\"\u001b[1;36m, line \u001b[1;32m2\u001b[0m\n\u001b[1;33m    \u001b[0m\n\u001b[1;37m    ^\u001b[0m\n\u001b[1;31mSyntaxError\u001b[0m\u001b[1;31m:\u001b[0m unexpected EOF while parsing\n"
     ]
    }
   ],
   "source": [
    "for i in range(111,999,3):\n",
    "    "
   ]
  },
  {
   "cell_type": "code",
   "execution_count": 40,
   "id": "b199c3a8",
   "metadata": {},
   "outputs": [
    {
     "name": "stdout",
     "output_type": "stream",
     "text": [
      "111\n",
      "113\n",
      "115\n",
      "117\n",
      "119\n",
      "131\n",
      "133\n",
      "135\n",
      "137\n",
      "139\n",
      "151\n",
      "153\n",
      "155\n",
      "157\n",
      "159\n",
      "171\n",
      "173\n",
      "175\n",
      "177\n",
      "179\n",
      "191\n",
      "193\n",
      "195\n",
      "197\n",
      "199\n",
      "311\n",
      "313\n",
      "315\n",
      "317\n",
      "319\n",
      "331\n",
      "333\n",
      "335\n",
      "337\n",
      "339\n",
      "351\n",
      "353\n",
      "355\n",
      "357\n",
      "359\n",
      "371\n",
      "373\n",
      "375\n",
      "377\n",
      "379\n",
      "391\n",
      "393\n",
      "395\n",
      "397\n",
      "399\n",
      "511\n",
      "513\n",
      "515\n",
      "517\n",
      "519\n",
      "531\n",
      "533\n",
      "535\n",
      "537\n",
      "539\n",
      "551\n",
      "553\n",
      "555\n",
      "557\n",
      "559\n",
      "571\n",
      "573\n",
      "575\n",
      "577\n",
      "579\n",
      "591\n",
      "593\n",
      "595\n",
      "597\n",
      "599\n",
      "711\n",
      "713\n",
      "715\n",
      "717\n",
      "719\n",
      "731\n",
      "733\n",
      "735\n",
      "737\n",
      "739\n",
      "751\n",
      "753\n",
      "755\n",
      "757\n",
      "759\n",
      "771\n",
      "773\n",
      "775\n",
      "777\n",
      "779\n",
      "791\n",
      "793\n",
      "795\n",
      "797\n",
      "799\n",
      "911\n",
      "913\n",
      "915\n",
      "917\n",
      "919\n",
      "931\n",
      "933\n",
      "935\n",
      "937\n",
      "939\n",
      "951\n",
      "953\n",
      "955\n",
      "957\n",
      "959\n",
      "971\n",
      "973\n",
      "975\n",
      "977\n",
      "979\n",
      "991\n",
      "993\n",
      "995\n",
      "997\n"
     ]
    }
   ],
   "source": [
    "f=False\n",
    "g=0\n",
    "for i in range(111,999,1):\n",
    "    x=i\n",
    "    first=x%10\n",
    "    x=int(x/10)\n",
    "    second=x%10\n",
    "    x=int(x/10)\n",
    "    third=x\n",
    "    if first%2!=0:\n",
    "        if second%2!=0:\n",
    "            if third%2!=0:\n",
    "                print(i)\n",
    "        "
   ]
  },
  {
   "cell_type": "code",
   "execution_count": 33,
   "id": "42dd627a",
   "metadata": {},
   "outputs": [],
   "source": [
    "def abc(a,b):\n",
    "    return a+b"
   ]
  },
  {
   "cell_type": "code",
   "execution_count": 34,
   "id": "cd318a62",
   "metadata": {},
   "outputs": [
    {
     "name": "stdout",
     "output_type": "stream",
     "text": [
      "15\n"
     ]
    }
   ],
   "source": [
    "x=abc(5,10)\n",
    "print(x)"
   ]
  },
  {
   "cell_type": "code",
   "execution_count": 35,
   "id": "8ebb9d76",
   "metadata": {},
   "outputs": [],
   "source": [
    "def abc(a,b):\n",
    "    return a+b,a-b,a*b,a/b"
   ]
  },
  {
   "cell_type": "code",
   "execution_count": 36,
   "id": "4a8e52ce",
   "metadata": {},
   "outputs": [
    {
     "name": "stdout",
     "output_type": "stream",
     "text": [
      "15 -5 50 0.5\n"
     ]
    }
   ],
   "source": [
    "a,b,c,d=abc(5,10)\n",
    "print(a,b,c,d)"
   ]
  },
  {
   "cell_type": "code",
   "execution_count": null,
   "id": "a4329f45",
   "metadata": {},
   "outputs": [],
   "source": []
  }
 ],
 "metadata": {
  "kernelspec": {
   "display_name": "Python 3",
   "language": "python",
   "name": "python3"
  },
  "language_info": {
   "codemirror_mode": {
    "name": "ipython",
    "version": 3
   },
   "file_extension": ".py",
   "mimetype": "text/x-python",
   "name": "python",
   "nbconvert_exporter": "python",
   "pygments_lexer": "ipython3",
   "version": "3.8.8"
  }
 },
 "nbformat": 4,
 "nbformat_minor": 5
}
