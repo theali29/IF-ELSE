{
 "cells": [
  {
   "cell_type": "markdown",
   "id": "0ac94fe0",
   "metadata": {},
   "source": [
    "# Question \n",
    "Write a program where you have given an array of integer numbers and two integers left and right.The task is to calculate a boolean array result, where result[i] = true if there exists an integer x, such that numbers[i] = (i + 1) * x and left ≤ x ≤ right. Otherwise, result[i] should be set to false."
   ]
  },
  {
   "cell_type": "code",
   "execution_count": 111,
   "id": "fae00fab",
   "metadata": {},
   "outputs": [
    {
     "name": "stdout",
     "output_type": "stream",
     "text": [
      "[False, False, True, False, False]\n"
     ]
    }
   ],
   "source": [
    "def solution(numbers,left,right):\n",
    "    c=0\n",
    "    result=[]\n",
    "    for i in numbers:\n",
    "            for a in range(left,right):\n",
    "                if i==(c+1)*a:\n",
    "                    f=True\n",
    "                else:\n",
    "                    f=False\n",
    "            c=c+1     \n",
    "            if f==True: \n",
    "                 result.append(f)\n",
    "            else:\n",
    "                 result.append(f)\n",
    "    print(result)     \n",
    "                \n",
    "numbers=[8, 5, 6, 16, 5]\n",
    "left=1\n",
    "right=3\n",
    "solution(numbers,left,right)  \n"
   ]
  },
  {
   "cell_type": "code",
   "execution_count": null,
   "id": "d5cf93f4",
   "metadata": {},
   "outputs": [],
   "source": []
  }
 ],
 "metadata": {
  "kernelspec": {
   "display_name": "Python 3 (ipykernel)",
   "language": "python",
   "name": "python3"
  },
  "language_info": {
   "codemirror_mode": {
    "name": "ipython",
    "version": 3
   },
   "file_extension": ".py",
   "mimetype": "text/x-python",
   "name": "python",
   "nbconvert_exporter": "python",
   "pygments_lexer": "ipython3",
   "version": "3.9.7"
  }
 },
 "nbformat": 4,
 "nbformat_minor": 5
}
