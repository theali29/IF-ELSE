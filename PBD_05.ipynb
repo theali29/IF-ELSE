{
 "cells": [
  {
   "cell_type": "markdown",
   "id": "1808a4ce",
   "metadata": {},
   "source": [
    "# LECTURE 5:List and Dictionary"
   ]
  },
  {
   "cell_type": "code",
   "execution_count": 5,
   "id": "5e0f50ff",
   "metadata": {},
   "outputs": [],
   "source": [
    "lst=[0,1,2,3,4]"
   ]
  },
  {
   "cell_type": "code",
   "execution_count": 6,
   "id": "a967e576",
   "metadata": {},
   "outputs": [
    {
     "data": {
      "text/plain": [
       "0"
      ]
     },
     "execution_count": 6,
     "metadata": {},
     "output_type": "execute_result"
    }
   ],
   "source": [
    "lst[0]"
   ]
  },
  {
   "cell_type": "code",
   "execution_count": 7,
   "id": "4bd1e7a4",
   "metadata": {},
   "outputs": [
    {
     "data": {
      "text/plain": [
       "[0, 1, 2, 3]"
      ]
     },
     "execution_count": 7,
     "metadata": {},
     "output_type": "execute_result"
    }
   ],
   "source": [
    "lst[0:4]"
   ]
  },
  {
   "cell_type": "code",
   "execution_count": 8,
   "id": "ca353bcf",
   "metadata": {},
   "outputs": [
    {
     "data": {
      "text/plain": [
       "4"
      ]
     },
     "execution_count": 8,
     "metadata": {},
     "output_type": "execute_result"
    }
   ],
   "source": [
    "lst[-1]"
   ]
  },
  {
   "cell_type": "code",
   "execution_count": 9,
   "id": "eb467d7c",
   "metadata": {},
   "outputs": [],
   "source": [
    "lst=lst+[3.14,2.71,5.67]"
   ]
  },
  {
   "cell_type": "code",
   "execution_count": 10,
   "id": "899a32fd",
   "metadata": {},
   "outputs": [
    {
     "data": {
      "text/plain": [
       "[0, 1, 2, 3, 4, 3.14, 2.71, 5.67]"
      ]
     },
     "execution_count": 10,
     "metadata": {},
     "output_type": "execute_result"
    }
   ],
   "source": [
    "lst"
   ]
  },
  {
   "cell_type": "code",
   "execution_count": 11,
   "id": "325574e1",
   "metadata": {},
   "outputs": [
    {
     "data": {
      "text/plain": [
       "int"
      ]
     },
     "execution_count": 11,
     "metadata": {},
     "output_type": "execute_result"
    }
   ],
   "source": [
    "type(lst[4])"
   ]
  },
  {
   "cell_type": "code",
   "execution_count": 12,
   "id": "c2148b4d",
   "metadata": {},
   "outputs": [],
   "source": [
    "lst=lst+[\"UCP\",\"LAHORE\",\"Pakistan\"]"
   ]
  },
  {
   "cell_type": "code",
   "execution_count": 13,
   "id": "6ba16bd5",
   "metadata": {},
   "outputs": [
    {
     "data": {
      "text/plain": [
       "[0, 1, 2, 3, 4, 3.14, 2.71, 5.67, 'UCP', 'LAHORE', 'Pakistan']"
      ]
     },
     "execution_count": 13,
     "metadata": {},
     "output_type": "execute_result"
    }
   ],
   "source": [
    "lst"
   ]
  },
  {
   "cell_type": "code",
   "execution_count": 14,
   "id": "ab89b92d",
   "metadata": {},
   "outputs": [
    {
     "data": {
      "text/plain": [
       "float"
      ]
     },
     "execution_count": 14,
     "metadata": {},
     "output_type": "execute_result"
    }
   ],
   "source": [
    "type(lst[7])"
   ]
  },
  {
   "cell_type": "code",
   "execution_count": 15,
   "id": "6740c267",
   "metadata": {},
   "outputs": [],
   "source": [
    "# extend and append\n",
    "lst.extend([45,55,65,75])"
   ]
  },
  {
   "cell_type": "code",
   "execution_count": 16,
   "id": "84513976",
   "metadata": {},
   "outputs": [
    {
     "data": {
      "text/plain": [
       "[0, 1, 2, 3, 4, 3.14, 2.71, 5.67, 'UCP', 'LAHORE', 'Pakistan', 45, 55, 65, 75]"
      ]
     },
     "execution_count": 16,
     "metadata": {},
     "output_type": "execute_result"
    }
   ],
   "source": [
    "lst"
   ]
  },
  {
   "cell_type": "code",
   "execution_count": 19,
   "id": "e802212d",
   "metadata": {},
   "outputs": [],
   "source": [
    "lst.append(['umt','uet','uol','puict'])"
   ]
  },
  {
   "cell_type": "code",
   "execution_count": 20,
   "id": "f64319e7",
   "metadata": {},
   "outputs": [
    {
     "data": {
      "text/plain": [
       "[0,\n",
       " 1,\n",
       " 2,\n",
       " 3,\n",
       " 4,\n",
       " 3.14,\n",
       " 2.71,\n",
       " 5.67,\n",
       " 'UCP',\n",
       " 'LAHORE',\n",
       " 'Pakistan',\n",
       " 45,\n",
       " 55,\n",
       " 65,\n",
       " 75,\n",
       " 0,\n",
       " 1,\n",
       " 2,\n",
       " 3,\n",
       " 4,\n",
       " 3.14,\n",
       " 2.71,\n",
       " 5.67,\n",
       " 'UCP',\n",
       " 'LAHORE',\n",
       " 'Pakistan',\n",
       " 45,\n",
       " 55,\n",
       " 65,\n",
       " 75,\n",
       " ['umt', 'uet', 'uol', 'puict']]"
      ]
     },
     "execution_count": 20,
     "metadata": {},
     "output_type": "execute_result"
    }
   ],
   "source": [
    "lst"
   ]
  },
  {
   "cell_type": "code",
   "execution_count": 23,
   "id": "782312b5",
   "metadata": {},
   "outputs": [
    {
     "data": {
      "text/plain": [
       "'uet'"
      ]
     },
     "execution_count": 23,
     "metadata": {},
     "output_type": "execute_result"
    }
   ],
   "source": [
    "lst[-1][1]"
   ]
  },
  {
   "cell_type": "code",
   "execution_count": 24,
   "id": "4a649680",
   "metadata": {},
   "outputs": [
    {
     "data": {
      "text/plain": [
       "'t'"
      ]
     },
     "execution_count": 24,
     "metadata": {},
     "output_type": "execute_result"
    }
   ],
   "source": [
    "lst[-1][1][2]"
   ]
  },
  {
   "cell_type": "code",
   "execution_count": 25,
   "id": "c48a8b67",
   "metadata": {},
   "outputs": [],
   "source": [
    "lst.insert(5,555)"
   ]
  },
  {
   "cell_type": "code",
   "execution_count": 26,
   "id": "941ce9ed",
   "metadata": {},
   "outputs": [
    {
     "data": {
      "text/plain": [
       "[0,\n",
       " 1,\n",
       " 2,\n",
       " 3,\n",
       " 4,\n",
       " 555,\n",
       " 3.14,\n",
       " 2.71,\n",
       " 5.67,\n",
       " 'UCP',\n",
       " 'LAHORE',\n",
       " 'Pakistan',\n",
       " 45,\n",
       " 55,\n",
       " 65,\n",
       " 75,\n",
       " 0,\n",
       " 1,\n",
       " 2,\n",
       " 3,\n",
       " 4,\n",
       " 3.14,\n",
       " 2.71,\n",
       " 5.67,\n",
       " 'UCP',\n",
       " 'LAHORE',\n",
       " 'Pakistan',\n",
       " 45,\n",
       " 55,\n",
       " 65,\n",
       " 75,\n",
       " ['umt', 'uet', 'uol', 'puict']]"
      ]
     },
     "execution_count": 26,
     "metadata": {},
     "output_type": "execute_result"
    }
   ],
   "source": [
    "lst"
   ]
  },
  {
   "cell_type": "code",
   "execution_count": 27,
   "id": "2d76d59b",
   "metadata": {},
   "outputs": [],
   "source": [
    "del lst[15:-1]"
   ]
  },
  {
   "cell_type": "code",
   "execution_count": 28,
   "id": "a5d8a830",
   "metadata": {},
   "outputs": [
    {
     "data": {
      "text/plain": [
       "[0,\n",
       " 1,\n",
       " 2,\n",
       " 3,\n",
       " 4,\n",
       " 555,\n",
       " 3.14,\n",
       " 2.71,\n",
       " 5.67,\n",
       " 'UCP',\n",
       " 'LAHORE',\n",
       " 'Pakistan',\n",
       " 45,\n",
       " 55,\n",
       " 65,\n",
       " ['umt', 'uet', 'uol', 'puict']]"
      ]
     },
     "execution_count": 28,
     "metadata": {},
     "output_type": "execute_result"
    }
   ],
   "source": [
    "lst"
   ]
  },
  {
   "cell_type": "code",
   "execution_count": 29,
   "id": "01b6dd4d",
   "metadata": {},
   "outputs": [],
   "source": [
    "#del\n",
    "#remove\n",
    "#pop\n",
    "del lst[5]"
   ]
  },
  {
   "cell_type": "code",
   "execution_count": 30,
   "id": "27a98cc0",
   "metadata": {},
   "outputs": [
    {
     "data": {
      "text/plain": [
       "[0,\n",
       " 1,\n",
       " 2,\n",
       " 3,\n",
       " 4,\n",
       " 3.14,\n",
       " 2.71,\n",
       " 5.67,\n",
       " 'UCP',\n",
       " 'LAHORE',\n",
       " 'Pakistan',\n",
       " 45,\n",
       " 55,\n",
       " 65,\n",
       " ['umt', 'uet', 'uol', 'puict']]"
      ]
     },
     "execution_count": 30,
     "metadata": {},
     "output_type": "execute_result"
    }
   ],
   "source": [
    "lst"
   ]
  },
  {
   "cell_type": "code",
   "execution_count": 31,
   "id": "f04bde78",
   "metadata": {},
   "outputs": [],
   "source": [
    "lst.remove('UCP')"
   ]
  },
  {
   "cell_type": "code",
   "execution_count": 33,
   "id": "21655c8f",
   "metadata": {},
   "outputs": [
    {
     "data": {
      "text/plain": [
       "[0,\n",
       " 1,\n",
       " 2,\n",
       " 3,\n",
       " 4,\n",
       " 3.14,\n",
       " 2.71,\n",
       " 5.67,\n",
       " 'LAHORE',\n",
       " 'Pakistan',\n",
       " 45,\n",
       " 55,\n",
       " 65,\n",
       " ['umt', 'uet', 'uol', 'puict']]"
      ]
     },
     "execution_count": 33,
     "metadata": {},
     "output_type": "execute_result"
    }
   ],
   "source": [
    "lst"
   ]
  },
  {
   "cell_type": "code",
   "execution_count": 34,
   "id": "8196a424",
   "metadata": {},
   "outputs": [
    {
     "data": {
      "text/plain": [
       "['umt', 'uet', 'uol', 'puict']"
      ]
     },
     "execution_count": 34,
     "metadata": {},
     "output_type": "execute_result"
    }
   ],
   "source": [
    "lst.pop()"
   ]
  },
  {
   "cell_type": "code",
   "execution_count": 35,
   "id": "2252d210",
   "metadata": {},
   "outputs": [
    {
     "data": {
      "text/plain": [
       "[0, 1, 2, 3, 4, 3.14, 2.71, 5.67, 'LAHORE', 'Pakistan', 45, 55, 65]"
      ]
     },
     "execution_count": 35,
     "metadata": {},
     "output_type": "execute_result"
    }
   ],
   "source": [
    "lst"
   ]
  },
  {
   "cell_type": "code",
   "execution_count": 36,
   "id": "562968a3",
   "metadata": {},
   "outputs": [],
   "source": [
    "for x in lst:\n",
    "    if type(x)==str:\n",
    "        lst.remove(x)\n",
    "        "
   ]
  },
  {
   "cell_type": "code",
   "execution_count": 37,
   "id": "1b3226b8",
   "metadata": {},
   "outputs": [
    {
     "data": {
      "text/plain": [
       "[0, 1, 2, 3, 4, 3.14, 2.71, 5.67, 'Pakistan', 45, 55, 65]"
      ]
     },
     "execution_count": 37,
     "metadata": {},
     "output_type": "execute_result"
    }
   ],
   "source": [
    "lst"
   ]
  },
  {
   "cell_type": "code",
   "execution_count": 39,
   "id": "33db5cdd",
   "metadata": {},
   "outputs": [],
   "source": [
    "lst.insert(5,'India')"
   ]
  },
  {
   "cell_type": "code",
   "execution_count": 40,
   "id": "c55d8b63",
   "metadata": {},
   "outputs": [
    {
     "data": {
      "text/plain": [
       "[0, 1, 2, 3, 4, 'India', 3.14, 2.71, 5.67, 'Pakistan', 45, 55, 65]"
      ]
     },
     "execution_count": 40,
     "metadata": {},
     "output_type": "execute_result"
    }
   ],
   "source": [
    "lst"
   ]
  },
  {
   "cell_type": "code",
   "execution_count": 42,
   "id": "574f714a",
   "metadata": {},
   "outputs": [],
   "source": [
    "del lst[6]"
   ]
  },
  {
   "cell_type": "code",
   "execution_count": 43,
   "id": "398694ff",
   "metadata": {},
   "outputs": [],
   "source": [
    "del lst[8:-1]"
   ]
  },
  {
   "cell_type": "code",
   "execution_count": 44,
   "id": "775fab2b",
   "metadata": {},
   "outputs": [
    {
     "data": {
      "text/plain": [
       "[0, 1, 2, 3, 4, 'India', 2.71, 5.67, 65]"
      ]
     },
     "execution_count": 44,
     "metadata": {},
     "output_type": "execute_result"
    }
   ],
   "source": [
    "lst"
   ]
  },
  {
   "cell_type": "code",
   "execution_count": 47,
   "id": "fb5e49df",
   "metadata": {},
   "outputs": [],
   "source": [
    "lst.remove(\"India\")"
   ]
  },
  {
   "cell_type": "code",
   "execution_count": 48,
   "id": "817cf6c9",
   "metadata": {},
   "outputs": [],
   "source": [
    "lst.sort()"
   ]
  },
  {
   "cell_type": "code",
   "execution_count": 49,
   "id": "5b995944",
   "metadata": {},
   "outputs": [
    {
     "data": {
      "text/plain": [
       "[0, 1, 2, 2.71, 3, 4, 5.67, 65]"
      ]
     },
     "execution_count": 49,
     "metadata": {},
     "output_type": "execute_result"
    }
   ],
   "source": [
    "lst"
   ]
  },
  {
   "cell_type": "code",
   "execution_count": 50,
   "id": "6af9b588",
   "metadata": {},
   "outputs": [],
   "source": [
    "lst.sort(reverse=True)"
   ]
  },
  {
   "cell_type": "code",
   "execution_count": 51,
   "id": "c768d98a",
   "metadata": {},
   "outputs": [
    {
     "data": {
      "text/plain": [
       "[65, 5.67, 4, 3, 2.71, 2, 1, 0]"
      ]
     },
     "execution_count": 51,
     "metadata": {},
     "output_type": "execute_result"
    }
   ],
   "source": [
    "lst"
   ]
  },
  {
   "cell_type": "code",
   "execution_count": 56,
   "id": "ca63e485",
   "metadata": {},
   "outputs": [],
   "source": [
    "#dictionary\n",
    "#key=value(S)\n",
    "d={'Country':['Pakistan','Iran','India','Afghanistan','China'],'Capital':['Islamabad','Tehran','Delhi','Kabul','Beijing'],\n",
    "  'Population':[25.1,5.22,135.7,5.8,175.3]}"
   ]
  },
  {
   "cell_type": "code",
   "execution_count": 57,
   "id": "3c14d596",
   "metadata": {},
   "outputs": [
    {
     "data": {
      "text/plain": [
       "{'Country': ['Pakistan', 'Iran', 'India', 'Afghanistan', 'China'],\n",
       " 'Capital': ['Islamabad', 'Tehran', 'Delhi', 'Kabul', 'Beijing'],\n",
       " 'Population': [25.1, 5.22, 135.7, 5.8, 175.3]}"
      ]
     },
     "execution_count": 57,
     "metadata": {},
     "output_type": "execute_result"
    }
   ],
   "source": [
    "d"
   ]
  },
  {
   "cell_type": "code",
   "execution_count": 58,
   "id": "f8a19ebc",
   "metadata": {},
   "outputs": [
    {
     "data": {
      "text/plain": [
       "dict_keys(['Country', 'Capital', 'Population'])"
      ]
     },
     "execution_count": 58,
     "metadata": {},
     "output_type": "execute_result"
    }
   ],
   "source": [
    "d.keys()\n"
   ]
  },
  {
   "cell_type": "code",
   "execution_count": 59,
   "id": "fd17c679",
   "metadata": {},
   "outputs": [
    {
     "data": {
      "text/plain": [
       "dict_values([['Pakistan', 'Iran', 'India', 'Afghanistan', 'China'], ['Islamabad', 'Tehran', 'Delhi', 'Kabul', 'Beijing'], [25.1, 5.22, 135.7, 5.8, 175.3]])"
      ]
     },
     "execution_count": 59,
     "metadata": {},
     "output_type": "execute_result"
    }
   ],
   "source": [
    "d.values()"
   ]
  },
  {
   "cell_type": "code",
   "execution_count": 60,
   "id": "d1f5b2af",
   "metadata": {},
   "outputs": [
    {
     "data": {
      "text/plain": [
       "dict_items([('Country', ['Pakistan', 'Iran', 'India', 'Afghanistan', 'China']), ('Capital', ['Islamabad', 'Tehran', 'Delhi', 'Kabul', 'Beijing']), ('Population', [25.1, 5.22, 135.7, 5.8, 175.3])])"
      ]
     },
     "execution_count": 60,
     "metadata": {},
     "output_type": "execute_result"
    }
   ],
   "source": [
    "d.items()"
   ]
  },
  {
   "cell_type": "code",
   "execution_count": 61,
   "id": "51c85f0f",
   "metadata": {},
   "outputs": [
    {
     "name": "stdout",
     "output_type": "stream",
     "text": [
      "['Pakistan', 'Iran', 'India', 'Afghanistan', 'China']\n",
      "['Islamabad', 'Tehran', 'Delhi', 'Kabul', 'Beijing']\n",
      "[25.1, 5.22, 135.7, 5.8, 175.3]\n"
     ]
    }
   ],
   "source": [
    "for v in d.values():\n",
    "    print(v)"
   ]
  },
  {
   "cell_type": "code",
   "execution_count": 64,
   "id": "ee2b7701",
   "metadata": {},
   "outputs": [
    {
     "name": "stdout",
     "output_type": "stream",
     "text": [
      "Country => ['Pakistan', 'Iran', 'India', 'Afghanistan', 'China']\n",
      "Capital => ['Islamabad', 'Tehran', 'Delhi', 'Kabul', 'Beijing']\n",
      "Population => [25.1, 5.22, 135.7, 5.8, 175.3]\n"
     ]
    }
   ],
   "source": [
    "for k,v in d.items():\n",
    "    print(k,'=>',v)"
   ]
  },
  {
   "cell_type": "markdown",
   "id": "0ca52731",
   "metadata": {},
   "source": [
    "# pandas"
   ]
  },
  {
   "cell_type": "code",
   "execution_count": 66,
   "id": "2e46d3fa",
   "metadata": {},
   "outputs": [],
   "source": [
    "import pandas as pd"
   ]
  },
  {
   "cell_type": "code",
   "execution_count": 73,
   "id": "a1975b46",
   "metadata": {},
   "outputs": [],
   "source": [
    "df=pd.DataFrame.from_dict(d)"
   ]
  },
  {
   "cell_type": "code",
   "execution_count": 74,
   "id": "a5ce391a",
   "metadata": {},
   "outputs": [],
   "source": [
    "df.to_csv('pbd_05.csv',index=False,header=True)"
   ]
  },
  {
   "cell_type": "code",
   "execution_count": 75,
   "id": "cd2b7c51",
   "metadata": {},
   "outputs": [
    {
     "data": {
      "text/html": [
       "<div>\n",
       "<style scoped>\n",
       "    .dataframe tbody tr th:only-of-type {\n",
       "        vertical-align: middle;\n",
       "    }\n",
       "\n",
       "    .dataframe tbody tr th {\n",
       "        vertical-align: top;\n",
       "    }\n",
       "\n",
       "    .dataframe thead th {\n",
       "        text-align: right;\n",
       "    }\n",
       "</style>\n",
       "<table border=\"1\" class=\"dataframe\">\n",
       "  <thead>\n",
       "    <tr style=\"text-align: right;\">\n",
       "      <th></th>\n",
       "      <th>Country</th>\n",
       "      <th>Capital</th>\n",
       "      <th>Population</th>\n",
       "    </tr>\n",
       "  </thead>\n",
       "  <tbody>\n",
       "    <tr>\n",
       "      <th>0</th>\n",
       "      <td>Pakistan</td>\n",
       "      <td>Islamabad</td>\n",
       "      <td>25.10</td>\n",
       "    </tr>\n",
       "    <tr>\n",
       "      <th>1</th>\n",
       "      <td>Iran</td>\n",
       "      <td>Tehran</td>\n",
       "      <td>5.22</td>\n",
       "    </tr>\n",
       "    <tr>\n",
       "      <th>2</th>\n",
       "      <td>India</td>\n",
       "      <td>Delhi</td>\n",
       "      <td>135.70</td>\n",
       "    </tr>\n",
       "    <tr>\n",
       "      <th>3</th>\n",
       "      <td>Afghanistan</td>\n",
       "      <td>Kabul</td>\n",
       "      <td>5.80</td>\n",
       "    </tr>\n",
       "    <tr>\n",
       "      <th>4</th>\n",
       "      <td>China</td>\n",
       "      <td>Beijing</td>\n",
       "      <td>175.30</td>\n",
       "    </tr>\n",
       "  </tbody>\n",
       "</table>\n",
       "</div>"
      ],
      "text/plain": [
       "       Country    Capital  Population\n",
       "0     Pakistan  Islamabad       25.10\n",
       "1         Iran     Tehran        5.22\n",
       "2        India      Delhi      135.70\n",
       "3  Afghanistan      Kabul        5.80\n",
       "4        China    Beijing      175.30"
      ]
     },
     "execution_count": 75,
     "metadata": {},
     "output_type": "execute_result"
    }
   ],
   "source": [
    "df"
   ]
  },
  {
   "cell_type": "code",
   "execution_count": 78,
   "id": "57400ef1",
   "metadata": {},
   "outputs": [],
   "source": [
    "df=pd.read_csv('pbd_05.csv')"
   ]
  },
  {
   "cell_type": "code",
   "execution_count": 79,
   "id": "0bbe6412",
   "metadata": {},
   "outputs": [
    {
     "data": {
      "text/html": [
       "<div>\n",
       "<style scoped>\n",
       "    .dataframe tbody tr th:only-of-type {\n",
       "        vertical-align: middle;\n",
       "    }\n",
       "\n",
       "    .dataframe tbody tr th {\n",
       "        vertical-align: top;\n",
       "    }\n",
       "\n",
       "    .dataframe thead th {\n",
       "        text-align: right;\n",
       "    }\n",
       "</style>\n",
       "<table border=\"1\" class=\"dataframe\">\n",
       "  <thead>\n",
       "    <tr style=\"text-align: right;\">\n",
       "      <th></th>\n",
       "      <th>Country</th>\n",
       "      <th>Capital</th>\n",
       "      <th>Population</th>\n",
       "    </tr>\n",
       "  </thead>\n",
       "  <tbody>\n",
       "    <tr>\n",
       "      <th>0</th>\n",
       "      <td>Pakistan</td>\n",
       "      <td>Islamabad</td>\n",
       "      <td>25.10</td>\n",
       "    </tr>\n",
       "    <tr>\n",
       "      <th>1</th>\n",
       "      <td>Iran</td>\n",
       "      <td>Tehran</td>\n",
       "      <td>5.22</td>\n",
       "    </tr>\n",
       "    <tr>\n",
       "      <th>2</th>\n",
       "      <td>India</td>\n",
       "      <td>Delhi</td>\n",
       "      <td>135.70</td>\n",
       "    </tr>\n",
       "    <tr>\n",
       "      <th>3</th>\n",
       "      <td>Afghanistan</td>\n",
       "      <td>Kabul</td>\n",
       "      <td>5.80</td>\n",
       "    </tr>\n",
       "    <tr>\n",
       "      <th>4</th>\n",
       "      <td>China</td>\n",
       "      <td>Beijing</td>\n",
       "      <td>175.30</td>\n",
       "    </tr>\n",
       "    <tr>\n",
       "      <th>5</th>\n",
       "      <td>Kuwait</td>\n",
       "      <td>Kuwait City</td>\n",
       "      <td>123.30</td>\n",
       "    </tr>\n",
       "  </tbody>\n",
       "</table>\n",
       "</div>"
      ],
      "text/plain": [
       "       Country      Capital  Population\n",
       "0     Pakistan    Islamabad       25.10\n",
       "1         Iran       Tehran        5.22\n",
       "2        India        Delhi      135.70\n",
       "3  Afghanistan        Kabul        5.80\n",
       "4        China      Beijing      175.30\n",
       "5       Kuwait  Kuwait City      123.30"
      ]
     },
     "execution_count": 79,
     "metadata": {},
     "output_type": "execute_result"
    }
   ],
   "source": [
    "df"
   ]
  },
  {
   "cell_type": "code",
   "execution_count": 80,
   "id": "ea559d17",
   "metadata": {},
   "outputs": [
    {
     "data": {
      "text/html": [
       "<div>\n",
       "<style scoped>\n",
       "    .dataframe tbody tr th:only-of-type {\n",
       "        vertical-align: middle;\n",
       "    }\n",
       "\n",
       "    .dataframe tbody tr th {\n",
       "        vertical-align: top;\n",
       "    }\n",
       "\n",
       "    .dataframe thead th {\n",
       "        text-align: right;\n",
       "    }\n",
       "</style>\n",
       "<table border=\"1\" class=\"dataframe\">\n",
       "  <thead>\n",
       "    <tr style=\"text-align: right;\">\n",
       "      <th></th>\n",
       "      <th>Country</th>\n",
       "      <th>Capital</th>\n",
       "      <th>Population</th>\n",
       "    </tr>\n",
       "  </thead>\n",
       "  <tbody>\n",
       "    <tr>\n",
       "      <th>0</th>\n",
       "      <td>Pakistan</td>\n",
       "      <td>Islamabad</td>\n",
       "      <td>25.10</td>\n",
       "    </tr>\n",
       "    <tr>\n",
       "      <th>1</th>\n",
       "      <td>Iran</td>\n",
       "      <td>Tehran</td>\n",
       "      <td>5.22</td>\n",
       "    </tr>\n",
       "    <tr>\n",
       "      <th>2</th>\n",
       "      <td>India</td>\n",
       "      <td>Delhi</td>\n",
       "      <td>135.70</td>\n",
       "    </tr>\n",
       "  </tbody>\n",
       "</table>\n",
       "</div>"
      ],
      "text/plain": [
       "    Country    Capital  Population\n",
       "0  Pakistan  Islamabad       25.10\n",
       "1      Iran     Tehran        5.22\n",
       "2     India      Delhi      135.70"
      ]
     },
     "execution_count": 80,
     "metadata": {},
     "output_type": "execute_result"
    }
   ],
   "source": [
    "df.head(3)"
   ]
  },
  {
   "cell_type": "code",
   "execution_count": 81,
   "id": "07383e80",
   "metadata": {},
   "outputs": [
    {
     "data": {
      "text/html": [
       "<div>\n",
       "<style scoped>\n",
       "    .dataframe tbody tr th:only-of-type {\n",
       "        vertical-align: middle;\n",
       "    }\n",
       "\n",
       "    .dataframe tbody tr th {\n",
       "        vertical-align: top;\n",
       "    }\n",
       "\n",
       "    .dataframe thead th {\n",
       "        text-align: right;\n",
       "    }\n",
       "</style>\n",
       "<table border=\"1\" class=\"dataframe\">\n",
       "  <thead>\n",
       "    <tr style=\"text-align: right;\">\n",
       "      <th></th>\n",
       "      <th>Country</th>\n",
       "      <th>Capital</th>\n",
       "      <th>Population</th>\n",
       "    </tr>\n",
       "  </thead>\n",
       "  <tbody>\n",
       "    <tr>\n",
       "      <th>3</th>\n",
       "      <td>Afghanistan</td>\n",
       "      <td>Kabul</td>\n",
       "      <td>5.8</td>\n",
       "    </tr>\n",
       "    <tr>\n",
       "      <th>4</th>\n",
       "      <td>China</td>\n",
       "      <td>Beijing</td>\n",
       "      <td>175.3</td>\n",
       "    </tr>\n",
       "    <tr>\n",
       "      <th>5</th>\n",
       "      <td>Kuwait</td>\n",
       "      <td>Kuwait City</td>\n",
       "      <td>123.3</td>\n",
       "    </tr>\n",
       "  </tbody>\n",
       "</table>\n",
       "</div>"
      ],
      "text/plain": [
       "       Country      Capital  Population\n",
       "3  Afghanistan        Kabul         5.8\n",
       "4        China      Beijing       175.3\n",
       "5       Kuwait  Kuwait City       123.3"
      ]
     },
     "execution_count": 81,
     "metadata": {},
     "output_type": "execute_result"
    }
   ],
   "source": [
    "df.tail(3)"
   ]
  },
  {
   "cell_type": "code",
   "execution_count": null,
   "id": "dfa6041f",
   "metadata": {},
   "outputs": [],
   "source": []
  }
 ],
 "metadata": {
  "kernelspec": {
   "display_name": "Python 3",
   "language": "python",
   "name": "python3"
  },
  "language_info": {
   "codemirror_mode": {
    "name": "ipython",
    "version": 3
   },
   "file_extension": ".py",
   "mimetype": "text/x-python",
   "name": "python",
   "nbconvert_exporter": "python",
   "pygments_lexer": "ipython3",
   "version": "3.8.8"
  }
 },
 "nbformat": 4,
 "nbformat_minor": 5
}
