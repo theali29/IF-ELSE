{
 "cells": [
  {
   "cell_type": "markdown",
   "id": "1c6f1ac3",
   "metadata": {},
   "source": [
    "# LECTURE 5:List and Dictionary"
   ]
  },
  {
   "cell_type": "code",
   "execution_count": 5,
   "id": "165db71e",
   "metadata": {},
   "outputs": [],
   "source": [
    "lst=[0,1,2,3,4]"
   ]
  },
  {
   "cell_type": "code",
   "execution_count": 6,
   "id": "55e6dcad",
   "metadata": {},
   "outputs": [
    {
     "data": {
      "text/plain": [
       "0"
      ]
     },
     "execution_count": 6,
     "metadata": {},
     "output_type": "execute_result"
    }
   ],
   "source": [
    "lst[0]"
   ]
  },
  {
   "cell_type": "code",
   "execution_count": 7,
   "id": "1a07b7c4",
   "metadata": {},
   "outputs": [
    {
     "data": {
      "text/plain": [
       "[0, 1, 2, 3]"
      ]
     },
     "execution_count": 7,
     "metadata": {},
     "output_type": "execute_result"
    }
   ],
   "source": [
    "lst[0:4]"
   ]
  },
  {
   "cell_type": "code",
   "execution_count": 8,
   "id": "1549d47a",
   "metadata": {},
   "outputs": [
    {
     "data": {
      "text/plain": [
       "4"
      ]
     },
     "execution_count": 8,
     "metadata": {},
     "output_type": "execute_result"
    }
   ],
   "source": [
    "lst[-1]"
   ]
  },
  {
   "cell_type": "code",
   "execution_count": 9,
   "id": "5f2b89f5",
   "metadata": {},
   "outputs": [],
   "source": [
    "lst=lst+[3.14,2.71,5.67]"
   ]
  },
  {
   "cell_type": "code",
   "execution_count": 10,
   "id": "ad087d7b",
   "metadata": {},
   "outputs": [
    {
     "data": {
      "text/plain": [
       "[0, 1, 2, 3, 4, 3.14, 2.71, 5.67]"
      ]
     },
     "execution_count": 10,
     "metadata": {},
     "output_type": "execute_result"
    }
   ],
   "source": [
    "lst"
   ]
  },
  {
   "cell_type": "code",
   "execution_count": 11,
   "id": "54939274",
   "metadata": {},
   "outputs": [
    {
     "data": {
      "text/plain": [
       "int"
      ]
     },
     "execution_count": 11,
     "metadata": {},
     "output_type": "execute_result"
    }
   ],
   "source": [
    "type(lst[4])"
   ]
  },
  {
   "cell_type": "code",
   "execution_count": 12,
   "id": "2dc4d712",
   "metadata": {},
   "outputs": [],
   "source": [
    "lst=lst+[\"UCP\",\"LAHORE\",\"Pakistan\"]"
   ]
  },
  {
   "cell_type": "code",
   "execution_count": 13,
   "id": "fb5fd757",
   "metadata": {},
   "outputs": [
    {
     "data": {
      "text/plain": [
       "[0, 1, 2, 3, 4, 3.14, 2.71, 5.67, 'UCP', 'LAHORE', 'Pakistan']"
      ]
     },
     "execution_count": 13,
     "metadata": {},
     "output_type": "execute_result"
    }
   ],
   "source": [
    "lst"
   ]
  },
  {
   "cell_type": "code",
   "execution_count": 14,
   "id": "624b1f79",
   "metadata": {},
   "outputs": [
    {
     "data": {
      "text/plain": [
       "float"
      ]
     },
     "execution_count": 14,
     "metadata": {},
     "output_type": "execute_result"
    }
   ],
   "source": [
    "type(lst[7])"
   ]
  },
  {
   "cell_type": "code",
   "execution_count": 15,
   "id": "57d59e24",
   "metadata": {},
   "outputs": [],
   "source": [
    "# extend and append\n",
    "lst.extend([45,55,65,75])"
   ]
  },
  {
   "cell_type": "code",
   "execution_count": 16,
   "id": "b3c701f0",
   "metadata": {},
   "outputs": [
    {
     "data": {
      "text/plain": [
       "[0, 1, 2, 3, 4, 3.14, 2.71, 5.67, 'UCP', 'LAHORE', 'Pakistan', 45, 55, 65, 75]"
      ]
     },
     "execution_count": 16,
     "metadata": {},
     "output_type": "execute_result"
    }
   ],
   "source": [
    "lst"
   ]
  },
  {
   "cell_type": "code",
   "execution_count": 19,
   "id": "fc994cd4",
   "metadata": {},
   "outputs": [],
   "source": [
    "lst.append(['umt','uet','uol','puict'])"
   ]
  },
  {
   "cell_type": "code",
   "execution_count": 20,
   "id": "66b9a498",
   "metadata": {},
   "outputs": [
    {
     "data": {
      "text/plain": [
       "[0,\n",
       " 1,\n",
       " 2,\n",
       " 3,\n",
       " 4,\n",
       " 3.14,\n",
       " 2.71,\n",
       " 5.67,\n",
       " 'UCP',\n",
       " 'LAHORE',\n",
       " 'Pakistan',\n",
       " 45,\n",
       " 55,\n",
       " 65,\n",
       " 75,\n",
       " 0,\n",
       " 1,\n",
       " 2,\n",
       " 3,\n",
       " 4,\n",
       " 3.14,\n",
       " 2.71,\n",
       " 5.67,\n",
       " 'UCP',\n",
       " 'LAHORE',\n",
       " 'Pakistan',\n",
       " 45,\n",
       " 55,\n",
       " 65,\n",
       " 75,\n",
       " ['umt', 'uet', 'uol', 'puict']]"
      ]
     },
     "execution_count": 20,
     "metadata": {},
     "output_type": "execute_result"
    }
   ],
   "source": [
    "lst"
   ]
  },
  {
   "cell_type": "code",
   "execution_count": 23,
   "id": "33327bad",
   "metadata": {},
   "outputs": [
    {
     "data": {
      "text/plain": [
       "'uet'"
      ]
     },
     "execution_count": 23,
     "metadata": {},
     "output_type": "execute_result"
    }
   ],
   "source": [
    "lst[-1][1]"
   ]
  },
  {
   "cell_type": "code",
   "execution_count": 24,
   "id": "79dc1dd2",
   "metadata": {},
   "outputs": [
    {
     "data": {
      "text/plain": [
       "'t'"
      ]
     },
     "execution_count": 24,
     "metadata": {},
     "output_type": "execute_result"
    }
   ],
   "source": [
    "lst[-1][1][2]"
   ]
  },
  {
   "cell_type": "code",
   "execution_count": 25,
   "id": "20c49d58",
   "metadata": {},
   "outputs": [],
   "source": [
    "lst.insert(5,555)"
   ]
  },
  {
   "cell_type": "code",
   "execution_count": 26,
   "id": "0acc6bf2",
   "metadata": {},
   "outputs": [
    {
     "data": {
      "text/plain": [
       "[0,\n",
       " 1,\n",
       " 2,\n",
       " 3,\n",
       " 4,\n",
       " 555,\n",
       " 3.14,\n",
       " 2.71,\n",
       " 5.67,\n",
       " 'UCP',\n",
       " 'LAHORE',\n",
       " 'Pakistan',\n",
       " 45,\n",
       " 55,\n",
       " 65,\n",
       " 75,\n",
       " 0,\n",
       " 1,\n",
       " 2,\n",
       " 3,\n",
       " 4,\n",
       " 3.14,\n",
       " 2.71,\n",
       " 5.67,\n",
       " 'UCP',\n",
       " 'LAHORE',\n",
       " 'Pakistan',\n",
       " 45,\n",
       " 55,\n",
       " 65,\n",
       " 75,\n",
       " ['umt', 'uet', 'uol', 'puict']]"
      ]
     },
     "execution_count": 26,
     "metadata": {},
     "output_type": "execute_result"
    }
   ],
   "source": [
    "lst"
   ]
  },
  {
   "cell_type": "code",
   "execution_count": 27,
   "id": "e8a71c15",
   "metadata": {},
   "outputs": [],
   "source": [
    "del lst[15:-1]"
   ]
  },
  {
   "cell_type": "code",
   "execution_count": 28,
   "id": "8bf7a2af",
   "metadata": {},
   "outputs": [
    {
     "data": {
      "text/plain": [
       "[0,\n",
       " 1,\n",
       " 2,\n",
       " 3,\n",
       " 4,\n",
       " 555,\n",
       " 3.14,\n",
       " 2.71,\n",
       " 5.67,\n",
       " 'UCP',\n",
       " 'LAHORE',\n",
       " 'Pakistan',\n",
       " 45,\n",
       " 55,\n",
       " 65,\n",
       " ['umt', 'uet', 'uol', 'puict']]"
      ]
     },
     "execution_count": 28,
     "metadata": {},
     "output_type": "execute_result"
    }
   ],
   "source": [
    "lst"
   ]
  },
  {
   "cell_type": "code",
   "execution_count": 29,
   "id": "7ee24e0c",
   "metadata": {},
   "outputs": [],
   "source": [
    "#del\n",
    "#remove\n",
    "#pop\n",
    "del lst[5]"
   ]
  },
  {
   "cell_type": "code",
   "execution_count": 30,
   "id": "efa9600b",
   "metadata": {},
   "outputs": [
    {
     "data": {
      "text/plain": [
       "[0,\n",
       " 1,\n",
       " 2,\n",
       " 3,\n",
       " 4,\n",
       " 3.14,\n",
       " 2.71,\n",
       " 5.67,\n",
       " 'UCP',\n",
       " 'LAHORE',\n",
       " 'Pakistan',\n",
       " 45,\n",
       " 55,\n",
       " 65,\n",
       " ['umt', 'uet', 'uol', 'puict']]"
      ]
     },
     "execution_count": 30,
     "metadata": {},
     "output_type": "execute_result"
    }
   ],
   "source": [
    "lst"
   ]
  },
  {
   "cell_type": "code",
   "execution_count": 31,
   "id": "9caa7d8c",
   "metadata": {},
   "outputs": [],
   "source": [
    "lst.remove('UCP')"
   ]
  },
  {
   "cell_type": "code",
   "execution_count": 33,
   "id": "4aa9486a",
   "metadata": {},
   "outputs": [
    {
     "data": {
      "text/plain": [
       "[0,\n",
       " 1,\n",
       " 2,\n",
       " 3,\n",
       " 4,\n",
       " 3.14,\n",
       " 2.71,\n",
       " 5.67,\n",
       " 'LAHORE',\n",
       " 'Pakistan',\n",
       " 45,\n",
       " 55,\n",
       " 65,\n",
       " ['umt', 'uet', 'uol', 'puict']]"
      ]
     },
     "execution_count": 33,
     "metadata": {},
     "output_type": "execute_result"
    }
   ],
   "source": [
    "lst"
   ]
  },
  {
   "cell_type": "code",
   "execution_count": 34,
   "id": "ddd31156",
   "metadata": {},
   "outputs": [
    {
     "data": {
      "text/plain": [
       "['umt', 'uet', 'uol', 'puict']"
      ]
     },
     "execution_count": 34,
     "metadata": {},
     "output_type": "execute_result"
    }
   ],
   "source": [
    "lst.pop()"
   ]
  },
  {
   "cell_type": "code",
   "execution_count": 35,
   "id": "bfc52f61",
   "metadata": {},
   "outputs": [
    {
     "data": {
      "text/plain": [
       "[0, 1, 2, 3, 4, 3.14, 2.71, 5.67, 'LAHORE', 'Pakistan', 45, 55, 65]"
      ]
     },
     "execution_count": 35,
     "metadata": {},
     "output_type": "execute_result"
    }
   ],
   "source": [
    "lst"
   ]
  },
  {
   "cell_type": "code",
   "execution_count": 36,
   "id": "b6b0c0ba",
   "metadata": {},
   "outputs": [],
   "source": [
    "for x in lst:\n",
    "    if type(x)==str:\n",
    "        lst.remove(x)\n",
    "        "
   ]
  },
  {
   "cell_type": "code",
   "execution_count": 37,
   "id": "b5ee133a",
   "metadata": {},
   "outputs": [
    {
     "data": {
      "text/plain": [
       "[0, 1, 2, 3, 4, 3.14, 2.71, 5.67, 'Pakistan', 45, 55, 65]"
      ]
     },
     "execution_count": 37,
     "metadata": {},
     "output_type": "execute_result"
    }
   ],
   "source": [
    "lst"
   ]
  },
  {
   "cell_type": "code",
   "execution_count": 39,
   "id": "e8a28067",
   "metadata": {},
   "outputs": [],
   "source": [
    "lst.insert(5,'India')"
   ]
  },
  {
   "cell_type": "code",
   "execution_count": 40,
   "id": "b6dad715",
   "metadata": {},
   "outputs": [
    {
     "data": {
      "text/plain": [
       "[0, 1, 2, 3, 4, 'India', 3.14, 2.71, 5.67, 'Pakistan', 45, 55, 65]"
      ]
     },
     "execution_count": 40,
     "metadata": {},
     "output_type": "execute_result"
    }
   ],
   "source": [
    "lst"
   ]
  },
  {
   "cell_type": "code",
   "execution_count": 42,
   "id": "5890c4b9",
   "metadata": {},
   "outputs": [],
   "source": [
    "del lst[6]"
   ]
  },
  {
   "cell_type": "code",
   "execution_count": 43,
   "id": "d7411fcf",
   "metadata": {},
   "outputs": [],
   "source": [
    "del lst[8:-1]"
   ]
  },
  {
   "cell_type": "code",
   "execution_count": 44,
   "id": "ee4dde07",
   "metadata": {},
   "outputs": [
    {
     "data": {
      "text/plain": [
       "[0, 1, 2, 3, 4, 'India', 2.71, 5.67, 65]"
      ]
     },
     "execution_count": 44,
     "metadata": {},
     "output_type": "execute_result"
    }
   ],
   "source": [
    "lst"
   ]
  },
  {
   "cell_type": "code",
   "execution_count": 47,
   "id": "94cc3ec2",
   "metadata": {},
   "outputs": [],
   "source": [
    "lst.remove(\"India\")"
   ]
  },
  {
   "cell_type": "code",
   "execution_count": 48,
   "id": "04872715",
   "metadata": {},
   "outputs": [],
   "source": [
    "lst.sort()"
   ]
  },
  {
   "cell_type": "code",
   "execution_count": 49,
   "id": "156f62c0",
   "metadata": {},
   "outputs": [
    {
     "data": {
      "text/plain": [
       "[0, 1, 2, 2.71, 3, 4, 5.67, 65]"
      ]
     },
     "execution_count": 49,
     "metadata": {},
     "output_type": "execute_result"
    }
   ],
   "source": [
    "lst"
   ]
  },
  {
   "cell_type": "code",
   "execution_count": 50,
   "id": "1598423f",
   "metadata": {},
   "outputs": [],
   "source": [
    "lst.sort(reverse=True)"
   ]
  },
  {
   "cell_type": "code",
   "execution_count": 51,
   "id": "fe40337f",
   "metadata": {},
   "outputs": [
    {
     "data": {
      "text/plain": [
       "[65, 5.67, 4, 3, 2.71, 2, 1, 0]"
      ]
     },
     "execution_count": 51,
     "metadata": {},
     "output_type": "execute_result"
    }
   ],
   "source": [
    "lst"
   ]
  },
  {
   "cell_type": "code",
   "execution_count": 56,
   "id": "7d357834",
   "metadata": {},
   "outputs": [],
   "source": [
    "#dictionary\n",
    "#key=value(S)\n",
    "d={'Country':['Pakistan','Iran','India','Afghanistan','China'],'Capital':['Islamabad','Tehran','Delhi','Kabul','Beijing'],\n",
    "  'Population':[25.1,5.22,135.7,5.8,175.3]}"
   ]
  },
  {
   "cell_type": "code",
   "execution_count": 57,
   "id": "36672af1",
   "metadata": {},
   "outputs": [
    {
     "data": {
      "text/plain": [
       "{'Country': ['Pakistan', 'Iran', 'India', 'Afghanistan', 'China'],\n",
       " 'Capital': ['Islamabad', 'Tehran', 'Delhi', 'Kabul', 'Beijing'],\n",
       " 'Population': [25.1, 5.22, 135.7, 5.8, 175.3]}"
      ]
     },
     "execution_count": 57,
     "metadata": {},
     "output_type": "execute_result"
    }
   ],
   "source": [
    "d"
   ]
  },
  {
   "cell_type": "code",
   "execution_count": 58,
   "id": "3218aa54",
   "metadata": {},
   "outputs": [
    {
     "data": {
      "text/plain": [
       "dict_keys(['Country', 'Capital', 'Population'])"
      ]
     },
     "execution_count": 58,
     "metadata": {},
     "output_type": "execute_result"
    }
   ],
   "source": [
    "d.keys()\n"
   ]
  },
  {
   "cell_type": "code",
   "execution_count": 59,
   "id": "7d6edb63",
   "metadata": {},
   "outputs": [
    {
     "data": {
      "text/plain": [
       "dict_values([['Pakistan', 'Iran', 'India', 'Afghanistan', 'China'], ['Islamabad', 'Tehran', 'Delhi', 'Kabul', 'Beijing'], [25.1, 5.22, 135.7, 5.8, 175.3]])"
      ]
     },
     "execution_count": 59,
     "metadata": {},
     "output_type": "execute_result"
    }
   ],
   "source": [
    "d.values()"
   ]
  },
  {
   "cell_type": "code",
   "execution_count": 60,
   "id": "9e74e8d2",
   "metadata": {},
   "outputs": [
    {
     "data": {
      "text/plain": [
       "dict_items([('Country', ['Pakistan', 'Iran', 'India', 'Afghanistan', 'China']), ('Capital', ['Islamabad', 'Tehran', 'Delhi', 'Kabul', 'Beijing']), ('Population', [25.1, 5.22, 135.7, 5.8, 175.3])])"
      ]
     },
     "execution_count": 60,
     "metadata": {},
     "output_type": "execute_result"
    }
   ],
   "source": [
    "d.items()"
   ]
  },
  {
   "cell_type": "code",
   "execution_count": 61,
   "id": "c882ba51",
   "metadata": {},
   "outputs": [
    {
     "name": "stdout",
     "output_type": "stream",
     "text": [
      "['Pakistan', 'Iran', 'India', 'Afghanistan', 'China']\n",
      "['Islamabad', 'Tehran', 'Delhi', 'Kabul', 'Beijing']\n",
      "[25.1, 5.22, 135.7, 5.8, 175.3]\n"
     ]
    }
   ],
   "source": [
    "for v in d.values():\n",
    "    print(v)"
   ]
  },
  {
   "cell_type": "code",
   "execution_count": 64,
   "id": "46efd6c8",
   "metadata": {},
   "outputs": [
    {
     "name": "stdout",
     "output_type": "stream",
     "text": [
      "Country => ['Pakistan', 'Iran', 'India', 'Afghanistan', 'China']\n",
      "Capital => ['Islamabad', 'Tehran', 'Delhi', 'Kabul', 'Beijing']\n",
      "Population => [25.1, 5.22, 135.7, 5.8, 175.3]\n"
     ]
    }
   ],
   "source": [
    "for k,v in d.items():\n",
    "    print(k,'=>',v)"
   ]
  },
  {
   "cell_type": "markdown",
   "id": "91dd2c2f",
   "metadata": {},
   "source": [
    "# pandas"
   ]
  },
  {
   "cell_type": "code",
   "execution_count": 66,
   "id": "5e307b9c",
   "metadata": {},
   "outputs": [],
   "source": [
    "import pandas as pd"
   ]
  },
  {
   "cell_type": "code",
   "execution_count": 73,
   "id": "80f3ae78",
   "metadata": {},
   "outputs": [],
   "source": [
    "df=pd.DataFrame.from_dict(d)"
   ]
  },
  {
   "cell_type": "code",
   "execution_count": 74,
   "id": "847536a3",
   "metadata": {},
   "outputs": [],
   "source": [
    "df.to_csv('pbd_05.csv',index=False,header=True)"
   ]
  },
  {
   "cell_type": "code",
   "execution_count": 75,
   "id": "1109fee3",
   "metadata": {},
   "outputs": [
    {
     "data": {
      "text/html": [
       "<div>\n",
       "<style scoped>\n",
       "    .dataframe tbody tr th:only-of-type {\n",
       "        vertical-align: middle;\n",
       "    }\n",
       "\n",
       "    .dataframe tbody tr th {\n",
       "        vertical-align: top;\n",
       "    }\n",
       "\n",
       "    .dataframe thead th {\n",
       "        text-align: right;\n",
       "    }\n",
       "</style>\n",
       "<table border=\"1\" class=\"dataframe\">\n",
       "  <thead>\n",
       "    <tr style=\"text-align: right;\">\n",
       "      <th></th>\n",
       "      <th>Country</th>\n",
       "      <th>Capital</th>\n",
       "      <th>Population</th>\n",
       "    </tr>\n",
       "  </thead>\n",
       "  <tbody>\n",
       "    <tr>\n",
       "      <th>0</th>\n",
       "      <td>Pakistan</td>\n",
       "      <td>Islamabad</td>\n",
       "      <td>25.10</td>\n",
       "    </tr>\n",
       "    <tr>\n",
       "      <th>1</th>\n",
       "      <td>Iran</td>\n",
       "      <td>Tehran</td>\n",
       "      <td>5.22</td>\n",
       "    </tr>\n",
       "    <tr>\n",
       "      <th>2</th>\n",
       "      <td>India</td>\n",
       "      <td>Delhi</td>\n",
       "      <td>135.70</td>\n",
       "    </tr>\n",
       "    <tr>\n",
       "      <th>3</th>\n",
       "      <td>Afghanistan</td>\n",
       "      <td>Kabul</td>\n",
       "      <td>5.80</td>\n",
       "    </tr>\n",
       "    <tr>\n",
       "      <th>4</th>\n",
       "      <td>China</td>\n",
       "      <td>Beijing</td>\n",
       "      <td>175.30</td>\n",
       "    </tr>\n",
       "  </tbody>\n",
       "</table>\n",
       "</div>"
      ],
      "text/plain": [
       "       Country    Capital  Population\n",
       "0     Pakistan  Islamabad       25.10\n",
       "1         Iran     Tehran        5.22\n",
       "2        India      Delhi      135.70\n",
       "3  Afghanistan      Kabul        5.80\n",
       "4        China    Beijing      175.30"
      ]
     },
     "execution_count": 75,
     "metadata": {},
     "output_type": "execute_result"
    }
   ],
   "source": [
    "df"
   ]
  },
  {
   "cell_type": "code",
   "execution_count": 78,
   "id": "1742ef5f",
   "metadata": {},
   "outputs": [],
   "source": [
    "df=pd.read_csv('pbd_05.csv')"
   ]
  },
  {
   "cell_type": "code",
   "execution_count": 79,
   "id": "edb81e6a",
   "metadata": {},
   "outputs": [
    {
     "data": {
      "text/html": [
       "<div>\n",
       "<style scoped>\n",
       "    .dataframe tbody tr th:only-of-type {\n",
       "        vertical-align: middle;\n",
       "    }\n",
       "\n",
       "    .dataframe tbody tr th {\n",
       "        vertical-align: top;\n",
       "    }\n",
       "\n",
       "    .dataframe thead th {\n",
       "        text-align: right;\n",
       "    }\n",
       "</style>\n",
       "<table border=\"1\" class=\"dataframe\">\n",
       "  <thead>\n",
       "    <tr style=\"text-align: right;\">\n",
       "      <th></th>\n",
       "      <th>Country</th>\n",
       "      <th>Capital</th>\n",
       "      <th>Population</th>\n",
       "    </tr>\n",
       "  </thead>\n",
       "  <tbody>\n",
       "    <tr>\n",
       "      <th>0</th>\n",
       "      <td>Pakistan</td>\n",
       "      <td>Islamabad</td>\n",
       "      <td>25.10</td>\n",
       "    </tr>\n",
       "    <tr>\n",
       "      <th>1</th>\n",
       "      <td>Iran</td>\n",
       "      <td>Tehran</td>\n",
       "      <td>5.22</td>\n",
       "    </tr>\n",
       "    <tr>\n",
       "      <th>2</th>\n",
       "      <td>India</td>\n",
       "      <td>Delhi</td>\n",
       "      <td>135.70</td>\n",
       "    </tr>\n",
       "    <tr>\n",
       "      <th>3</th>\n",
       "      <td>Afghanistan</td>\n",
       "      <td>Kabul</td>\n",
       "      <td>5.80</td>\n",
       "    </tr>\n",
       "    <tr>\n",
       "      <th>4</th>\n",
       "      <td>China</td>\n",
       "      <td>Beijing</td>\n",
       "      <td>175.30</td>\n",
       "    </tr>\n",
       "    <tr>\n",
       "      <th>5</th>\n",
       "      <td>Kuwait</td>\n",
       "      <td>Kuwait City</td>\n",
       "      <td>123.30</td>\n",
       "    </tr>\n",
       "  </tbody>\n",
       "</table>\n",
       "</div>"
      ],
      "text/plain": [
       "       Country      Capital  Population\n",
       "0     Pakistan    Islamabad       25.10\n",
       "1         Iran       Tehran        5.22\n",
       "2        India        Delhi      135.70\n",
       "3  Afghanistan        Kabul        5.80\n",
       "4        China      Beijing      175.30\n",
       "5       Kuwait  Kuwait City      123.30"
      ]
     },
     "execution_count": 79,
     "metadata": {},
     "output_type": "execute_result"
    }
   ],
   "source": [
    "df"
   ]
  },
  {
   "cell_type": "code",
   "execution_count": 80,
   "id": "c541e90f",
   "metadata": {},
   "outputs": [
    {
     "data": {
      "text/html": [
       "<div>\n",
       "<style scoped>\n",
       "    .dataframe tbody tr th:only-of-type {\n",
       "        vertical-align: middle;\n",
       "    }\n",
       "\n",
       "    .dataframe tbody tr th {\n",
       "        vertical-align: top;\n",
       "    }\n",
       "\n",
       "    .dataframe thead th {\n",
       "        text-align: right;\n",
       "    }\n",
       "</style>\n",
       "<table border=\"1\" class=\"dataframe\">\n",
       "  <thead>\n",
       "    <tr style=\"text-align: right;\">\n",
       "      <th></th>\n",
       "      <th>Country</th>\n",
       "      <th>Capital</th>\n",
       "      <th>Population</th>\n",
       "    </tr>\n",
       "  </thead>\n",
       "  <tbody>\n",
       "    <tr>\n",
       "      <th>0</th>\n",
       "      <td>Pakistan</td>\n",
       "      <td>Islamabad</td>\n",
       "      <td>25.10</td>\n",
       "    </tr>\n",
       "    <tr>\n",
       "      <th>1</th>\n",
       "      <td>Iran</td>\n",
       "      <td>Tehran</td>\n",
       "      <td>5.22</td>\n",
       "    </tr>\n",
       "    <tr>\n",
       "      <th>2</th>\n",
       "      <td>India</td>\n",
       "      <td>Delhi</td>\n",
       "      <td>135.70</td>\n",
       "    </tr>\n",
       "  </tbody>\n",
       "</table>\n",
       "</div>"
      ],
      "text/plain": [
       "    Country    Capital  Population\n",
       "0  Pakistan  Islamabad       25.10\n",
       "1      Iran     Tehran        5.22\n",
       "2     India      Delhi      135.70"
      ]
     },
     "execution_count": 80,
     "metadata": {},
     "output_type": "execute_result"
    }
   ],
   "source": [
    "df.head(3)"
   ]
  },
  {
   "cell_type": "code",
   "execution_count": 81,
   "id": "de9de267",
   "metadata": {},
   "outputs": [
    {
     "data": {
      "text/html": [
       "<div>\n",
       "<style scoped>\n",
       "    .dataframe tbody tr th:only-of-type {\n",
       "        vertical-align: middle;\n",
       "    }\n",
       "\n",
       "    .dataframe tbody tr th {\n",
       "        vertical-align: top;\n",
       "    }\n",
       "\n",
       "    .dataframe thead th {\n",
       "        text-align: right;\n",
       "    }\n",
       "</style>\n",
       "<table border=\"1\" class=\"dataframe\">\n",
       "  <thead>\n",
       "    <tr style=\"text-align: right;\">\n",
       "      <th></th>\n",
       "      <th>Country</th>\n",
       "      <th>Capital</th>\n",
       "      <th>Population</th>\n",
       "    </tr>\n",
       "  </thead>\n",
       "  <tbody>\n",
       "    <tr>\n",
       "      <th>3</th>\n",
       "      <td>Afghanistan</td>\n",
       "      <td>Kabul</td>\n",
       "      <td>5.8</td>\n",
       "    </tr>\n",
       "    <tr>\n",
       "      <th>4</th>\n",
       "      <td>China</td>\n",
       "      <td>Beijing</td>\n",
       "      <td>175.3</td>\n",
       "    </tr>\n",
       "    <tr>\n",
       "      <th>5</th>\n",
       "      <td>Kuwait</td>\n",
       "      <td>Kuwait City</td>\n",
       "      <td>123.3</td>\n",
       "    </tr>\n",
       "  </tbody>\n",
       "</table>\n",
       "</div>"
      ],
      "text/plain": [
       "       Country      Capital  Population\n",
       "3  Afghanistan        Kabul         5.8\n",
       "4        China      Beijing       175.3\n",
       "5       Kuwait  Kuwait City       123.3"
      ]
     },
     "execution_count": 81,
     "metadata": {},
     "output_type": "execute_result"
    }
   ],
   "source": [
    "df.tail(3)"
   ]
  },
  {
   "cell_type": "code",
   "execution_count": 82,
   "id": "6727b466",
   "metadata": {},
   "outputs": [],
   "source": [
    "t=(1,2,3,4,)"
   ]
  },
  {
   "cell_type": "code",
   "execution_count": 83,
   "id": "baf6924d",
   "metadata": {},
   "outputs": [
    {
     "data": {
      "text/plain": [
       "tuple"
      ]
     },
     "execution_count": 83,
     "metadata": {},
     "output_type": "execute_result"
    }
   ],
   "source": [
    "type(t)"
   ]
  },
  {
   "cell_type": "code",
   "execution_count": 84,
   "id": "d588300e",
   "metadata": {},
   "outputs": [
    {
     "data": {
      "text/plain": [
       "1"
      ]
     },
     "execution_count": 84,
     "metadata": {},
     "output_type": "execute_result"
    }
   ],
   "source": [
    "t[0]"
   ]
  },
  {
   "cell_type": "code",
   "execution_count": 85,
   "id": "a58b9281",
   "metadata": {},
   "outputs": [
    {
     "data": {
      "text/plain": [
       "(1, 2, 3)"
      ]
     },
     "execution_count": 85,
     "metadata": {},
     "output_type": "execute_result"
    }
   ],
   "source": [
    "t[0:3]"
   ]
  },
  {
   "cell_type": "code",
   "execution_count": 90,
   "id": "ac00d0d1",
   "metadata": {},
   "outputs": [],
   "source": []
  },
  {
   "cell_type": "code",
   "execution_count": null,
   "id": "2f27e864",
   "metadata": {},
   "outputs": [],
   "source": []
  },
  {
   "cell_type": "code",
   "execution_count": null,
   "id": "81567500",
   "metadata": {},
   "outputs": [],
   "source": []
  }
 ],
 "metadata": {
  "kernelspec": {
   "display_name": "Python 3",
   "language": "python",
   "name": "python3"
  },
  "language_info": {
   "codemirror_mode": {
    "name": "ipython",
    "version": 3
   },
   "file_extension": ".py",
   "mimetype": "text/x-python",
   "name": "python",
   "nbconvert_exporter": "python",
   "pygments_lexer": "ipython3",
   "version": "3.8.8"
  }
 },
 "nbformat": 4,
 "nbformat_minor": 5
}
