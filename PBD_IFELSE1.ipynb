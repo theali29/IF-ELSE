{
 "cells": [
  {
   "cell_type": "markdown",
   "id": "bb891822",
   "metadata": {},
   "source": [
    "# Question 1: Minumum/Maximum"
   ]
  },
  {
   "cell_type": "code",
   "execution_count": null,
   "id": "5d51f70f",
   "metadata": {},
   "outputs": [],
   "source": [
    "x=int(input(\"Please Enter Number 1:\\n\"))\n",
    "y=int(input(\"Please Enter Number 2:\\n\"))\n",
    "if x>y:\n",
    "    print(x,\"is larger number\")\n",
    "else:\n",
    "    print(x,\"is smaller number\")\n",
    "if x<y:\n",
    "    print(y,\"is larger number\")\n",
    "else:\n",
    "    print(y,\"is smaller number\")\n",
    "    "
   ]
  },
  {
   "cell_type": "markdown",
   "id": "83bdcf35",
   "metadata": {},
   "source": [
    "# Question 2:Roman Numeral Converter"
   ]
  },
  {
   "cell_type": "code",
   "execution_count": 11,
   "id": "6bc448e7",
   "metadata": {},
   "outputs": [
    {
     "name": "stdout",
     "output_type": "stream",
     "text": [
      "Please Enter a Number between 1 and 10:\n",
      "5\n",
      "The Roman numeral version of a number is V\n"
     ]
    }
   ],
   "source": [
    "x=int(input(\"Please Enter a Number between 1 and 10:\\n\"))\n",
    "if x==1:\n",
    "    print(\"The Roman numeral version of a number is I\")\n",
    "if x==2:\n",
    "    print(\"The Roman numeral version of a number is II\")\n",
    "if x==3:\n",
    "    print(\"The Roman numeral version of a number is III\")\n",
    "if x==4:\n",
    "    print(\"The Roman numeral version of a number is IV\")\n",
    "if x==5:\n",
    "    print(\"The Roman numeral version of a number is V\")\n",
    "if x==6:\n",
    "    print(\"The Roman numeral version of a number is VI\")\n",
    "if x==7:\n",
    "    print(\"The Roman numeral version of a number is VII\")\n",
    "if x==8:\n",
    "    print(\"The Roman numeral version of a number is VIII\")\n",
    "if x==9:\n",
    "    print(\"The Roman numeral version of a number is IX\")\n",
    "if x==10:\n",
    "    print(\"The Roman numeral version of a number is X\")\n",
    "if x<1 or x>10:\n",
    "    print(\"Number is not in between 1 and 10,TRY AGAIN\")\n",
    "    "
   ]
  },
  {
   "cell_type": "code",
   "execution_count": 12,
   "id": "1fabce34",
   "metadata": {},
   "outputs": [
    {
     "name": "stdout",
     "output_type": "stream",
     "text": [
      "Please Enter Day:\n",
      "6\n",
      "Please Enter a month:\n",
      "10\n",
      "Please Enter a year:\n",
      "60\n",
      "The date is magic\n"
     ]
    }
   ],
   "source": [
    "# QUESTION 3: Magic Dates\n",
    "day=int(input(\"Please Enter Day:\\n\"))\n",
    "month=int(input(\"Please Enter a month:\\n\"))\n",
    "year=int(input(\"Please Enter a year:\\n\")) \n",
    "d=month*day\n",
    "if d==year:\n",
    "    print(\"The date is magic\")\n",
    "else:\n",
    "    print(\"The date is not magic\")\n",
    "\n",
    "\n",
    "    "
   ]
  },
  {
   "cell_type": "markdown",
   "id": "79123edc",
   "metadata": {},
   "source": [
    "# Question 4: Areas of Rectangles"
   ]
  },
  {
   "cell_type": "code",
   "execution_count": 13,
   "id": "66c2c1d0",
   "metadata": {},
   "outputs": [
    {
     "name": "stdout",
     "output_type": "stream",
     "text": [
      "Please Enter Length of Area 1:\n",
      "12\n",
      "Please Enter Width of Area 1:\n",
      "12\n",
      "Please Enter Length of Area 2:\n",
      "12\n",
      "Please Enter Width of Area 2:\n",
      "12\n",
      "Rectangle 2 has greater area\n",
      "Areas are same\n"
     ]
    }
   ],
   "source": [
    "length1=int(input(\"Please Enter Length of Rectangle 1:\\n\"))\n",
    "width1=int(input(\"Please Enter Width of Rectangle 1:\\n\"))\n",
    "length2=int(input(\"Please Enter Length of Rectangle 2:\\n\"))\n",
    "width2=int(input(\"Please Enter Width of Rectangle 2:\\n\"))\n",
    "Area1=length1*width1\n",
    "Area2=length2*width2\n",
    "if Area1>Area2:\n",
    "    print(\"Rectangle 1 has greater area\")\n",
    "else:\n",
    "    print(\"Rectangle 2 has greater area\")\n",
    "if Area1==Area2:\n",
    "    print(\"Areas are same\")"
   ]
  },
  {
   "cell_type": "markdown",
   "id": "77f5fd95",
   "metadata": {},
   "source": [
    "# Question 5: Book Club Points\n"
   ]
  },
  {
   "cell_type": "code",
   "execution_count": 14,
   "id": "aab49027",
   "metadata": {},
   "outputs": [
    {
     "name": "stdout",
     "output_type": "stream",
     "text": [
      "Please Enter Number of Books Purchased:\n",
      "4\n",
      "60 points awarded\n"
     ]
    }
   ],
   "source": [
    "Book=int(input(\"Please Enter Number of Books Purchased:\\n\"))\n",
    "if Book==0:\n",
    "    print(\"0 point awarded\")\n",
    "if Book==1:\n",
    "    print(\"5 points awarded\")\n",
    "if Book==2:\n",
    "    print(\"15 points awarded\")\n",
    "if Book==3:\n",
    "    print(\"30 points awarded\")\n",
    "if Book>=4:\n",
    "    print(\"60 points awarded\")\n",
    "    "
   ]
  },
  {
   "cell_type": "markdown",
   "id": "efbaede3",
   "metadata": {},
   "source": [
    "# Question 7 – Time Calculator"
   ]
  },
  {
   "cell_type": "code",
   "execution_count": 15,
   "id": "402f0142",
   "metadata": {},
   "outputs": [
    {
     "name": "stdout",
     "output_type": "stream",
     "text": [
      "Enter Number of Seconds:\n",
      "60\n",
      "There are 1.0 number of minutes in 60 .\n"
     ]
    }
   ],
   "source": [
    "seconds=int(input(\"Enter Number of Seconds:\\n\"))\n",
    "if seconds>=86400:\n",
    "    day=86400\n",
    "    noofdays=seconds/day\n",
    "    print(\"There are\",noofdays,\"number of days in\",seconds,\"seconds.\")\n",
    "if seconds>=3600:\n",
    "    hour=3600\n",
    "    noofhours=seconds/hour\n",
    "    print(\"There are\",noofhours,\"number of hours in\",seconds,\"seconds.\")\n",
    "if seconds>=60:\n",
    "    minute=60\n",
    "    noofmin=seconds/minute\n",
    "    print(\"There are\",noofmin,\"number of minutes in\",seconds,\"seconds.\")\n",
    "    \n",
    "    "
   ]
  },
  {
   "cell_type": "markdown",
   "id": "a35b20cf",
   "metadata": {},
   "source": [
    "# Question 8 – Math Tutor"
   ]
  },
  {
   "cell_type": "code",
   "execution_count": 26,
   "id": "b7002f76",
   "metadata": {},
   "outputs": [
    {
     "name": "stdout",
     "output_type": "stream",
     "text": [
      "Enter two Random Numbers between 10 and 50 that are to be added:\n",
      "\n",
      "12\n",
      "24\n",
      "Enter Correct answer:\n",
      "5\n",
      "Correct Answer is 36 .\n"
     ]
    }
   ],
   "source": [
    "print(\"Enter two Random Numbers between 10 and 50 that are to be added:\\n\")\n",
    "num1=int(input())\n",
    "num2=int(input())\n",
    "if num1>10 or num1<50 and num2>10 or num2<50:\n",
    "    answer=int(input(\"Enter Correct answer:\\n\"))\n",
    "    add=num1+num2\n",
    "    if answer==add:\n",
    "        print(\"Congratulations!!!\")\n",
    "    else:\n",
    "        print(\"Correct Answer is\",add,\".\")\n",
    "    \n",
    "else:\n",
    "    print(\"Input numbers between 10 and 50,TRY AGAIN!!\")\n"
   ]
  },
  {
   "cell_type": "code",
   "execution_count": 32,
   "id": "fb1001ab",
   "metadata": {},
   "outputs": [
    {
     "name": "stdout",
     "output_type": "stream",
     "text": [
      "Enter an objects mass:\n",
      "700\n",
      "Object is too Heavy\n"
     ]
    }
   ],
   "source": [
    "# Question 6 Mass and Weight\n",
    "mass=int(input(\"Enter an objects mass:\\n\"))\n",
    "weight=mass*9.8\n",
    "if weight>1000:\n",
    "    print(\"Object is too Heavy\") \n",
    "if weight<10:\n",
    "    print(\"Object is too Light\")"
   ]
  },
  {
   "cell_type": "markdown",
   "id": "17e8d0ca",
   "metadata": {},
   "source": [
    "# Question 9 Software and Sales"
   ]
  },
  {
   "cell_type": "code",
   "execution_count": 39,
   "id": "b225b700",
   "metadata": {},
   "outputs": [
    {
     "name": "stdout",
     "output_type": "stream",
     "text": [
      "Enter an no of units purchased:\n",
      "12\n",
      "Total cost of the purchase 950 .\n"
     ]
    }
   ],
   "source": [
    "quantity=int(input(\"Enter an no of units purchased:\\n\"))\n",
    "package=99\n",
    "if quantity<=0:\n",
    "    print(\"Number of units must be greater than zero.TRY Again!!!\")\n",
    "if quantity<10:\n",
    "    total=package*quantity\n",
    "   \n",
    "    print(\"Total cost of the purchase\",total,\".\")\n",
    "if quantity>=10 and quantity<=19:\n",
    "    package=package*quantity\n",
    "    discount=package*0.2\n",
    "    total=package-discount\n",
    "    total=int(total)\n",
    "    print(\"Total cost of the purchase\",total,\".\")\n",
    "if quantity>=20 and quantity<=49:\n",
    "    package=package*quantity\n",
    "    discount=package*0.3\n",
    "    total=int(total)\n",
    "    total=package-discount\n",
    "    print(\"Total cost of the purchase\",total,\".\")\n",
    "if quantity>=50 and quantity<=99:\n",
    "    package=package*quantity\n",
    "    discount=package*0.4\n",
    "    total=int(total)\n",
    "    total=package-discount\n",
    "    print(\"Total cost of the purchase\",total,\".\")\n",
    "if quantity>=100:\n",
    "    package=package*quantity\n",
    "    discount=package*0.5\n",
    "    total=int(total)\n",
    "    total=package-discount\n",
    "    print(\"Total cost of the purchase\",total,\".\")\n",
    "\n"
   ]
  },
  {
   "cell_type": "markdown",
   "id": "e11d68f3",
   "metadata": {},
   "source": [
    "# Question 10: Bank Charges"
   ]
  },
  {
   "cell_type": "code",
   "execution_count": 43,
   "id": "fe264b84",
   "metadata": {},
   "outputs": [
    {
     "name": "stdout",
     "output_type": "stream",
     "text": [
      "Enter the number of checks written during the past month:\n",
      "20\n",
      "The bank’s fees for the month is $ 10.08\n"
     ]
    }
   ],
   "source": [
    "checks=int(input(\"Enter the number of checks written during the past month:\\n\"))\n",
    "if checks<20:\n",
    "    fees=10+0.10\n",
    "    print(\"The bank’s fees for the month is $\",fees)\n",
    "if checks>=20 and checks<=39:    \n",
    "    fees=10+0.08\n",
    "    print(\"The bank’s fees for the month is $\",fees)\n",
    "if checks>=40 and checks<=59:    \n",
    "    fees=10+0.06\n",
    "    print(\"The bank’s fees for the month is $\",fees)\n",
    "if checks>=60:\n",
    "    fees=10+0.04\n",
    "    print(\"The bank’s fees for the month is $\",fees)\n",
    "    "
   ]
  },
  {
   "cell_type": "markdown",
   "id": "37a3f202",
   "metadata": {},
   "source": [
    "# Question 11: Geometry Calculator"
   ]
  },
  {
   "cell_type": "code",
   "execution_count": 51,
   "id": "175cad66",
   "metadata": {},
   "outputs": [
    {
     "name": "stdout",
     "output_type": "stream",
     "text": [
      "Geometry Calculator:\n",
      "1.Calculate the Area of a Circle:\n",
      "\n",
      "2.Calculate the Area of a Rectangle:\n",
      "\n",
      "3.Calculate the Area of a Triangle:\n",
      "\n",
      "4.Quit:\n",
      "\n",
      " Enter your choice (1-4)2\n",
      "Enter Length of Rectangle12\n",
      "Enter Width of Rectangle21\n",
      "The Area of a Rectangle is 252\n"
     ]
    }
   ],
   "source": [
    "print(\"Geometry Calculator:\")\n",
    "print(\"1.Calculate the Area of a Circle:\\n\")\n",
    "print(\"2.Calculate the Area of a Rectangle:\\n\")\n",
    "print(\"3.Calculate the Area of a Triangle:\\n\")\n",
    "print(\"4.Quit:\\n\")\n",
    "choice=int(input(\" Enter your choice (1-4)\"))\n",
    "if choice==1:\n",
    "    rad=int(input(\"Enter radius of a circle\"))\n",
    "    if rad<0:\n",
    "        print(\"Negative Value is not accepted.Enter again!!!\")\n",
    "    else:\n",
    "        area=3.14159*rad*rad\n",
    "        print(\"The Area of a Circle is\",area)\n",
    "if choice==2:\n",
    "    length=int(input(\"Enter Length of Rectangle\"))\n",
    "    width=int(input(\"Enter Width of Rectangle\"))\n",
    "    if length<0 and width<0:\n",
    "        print(\"Negative Value is not accepted.Enter again!!!\")\n",
    "    else:\n",
    "        area=length*width\n",
    "        print(\"The Area of a Rectangle is\",area)\n",
    "if choice==3:\n",
    "    height=int(input(\"Enter Height of Triangle\"))\n",
    "    base=int(input(\"Enter Base of Triangle\"))\n",
    "    if height<0 and base<0:\n",
    "        print(\"Negative Value is not accepted.Enter again!!!\")\n",
    "    else:\n",
    "        area=1/2*height*base\n",
    "        print(\"The Area of a Triangle is\",area)\n",
    "if choice<1 and choice>4:\n",
    "    print(\"Error\")"
   ]
  },
  {
   "cell_type": "code",
   "execution_count": null,
   "id": "fff2f3fe",
   "metadata": {},
   "outputs": [],
   "source": []
  }
 ],
 "metadata": {
  "kernelspec": {
   "display_name": "Python 3 (ipykernel)",
   "language": "python",
   "name": "python3"
  },
  "language_info": {
   "codemirror_mode": {
    "name": "ipython",
    "version": 3
   },
   "file_extension": ".py",
   "mimetype": "text/x-python",
   "name": "python",
   "nbconvert_exporter": "python",
   "pygments_lexer": "ipython3",
   "version": "3.9.7"
  }
 },
 "nbformat": 4,
 "nbformat_minor": 5
}
