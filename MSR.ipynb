{
 "cells": [
  {
   "cell_type": "code",
   "execution_count": 5,
   "id": "f7162346",
   "metadata": {},
   "outputs": [
    {
     "name": "stdout",
     "output_type": "stream",
     "text": [
      "Student with the highest average score: Ali\n",
      "Student 2's updated age: 18\n",
      "Student 3's subjects after adding Geography: ['Math', 'History', 'Physics', 'Geography']\n",
      "Tuples for each student: ('Areeb', 20, ['Math', 'Science', 'History']) ('Abdul', 18, ['English', 'Math', 'Science']) ('Ali', 19, ['Math', 'History', 'Physics', 'Geography'])\n",
      "Set of unique subjects across all students: {'Physics', 'Science', 'History', 'Geography', 'Math', 'English'}\n"
     ]
    }
   ],
   "source": [
    "# Step 1: Data Initialization\n",
    "# Initialize data for the students\n",
    "\n",
    "student1 = {\n",
    "    \"name\": \"Areeb\",\n",
    "    \"age\": 20,\n",
    "    \"subjects\": [\"Math\", \"Science\", \"History\"],\n",
    "    \"scores\": [90, 85, 78]\n",
    "}\n",
    "\n",
    "student2 = {\n",
    "    \"name\": \"Abdul\",\n",
    "    \"age\": 17,\n",
    "    \"subjects\": [\"English\", \"Math\", \"Science\"],\n",
    "    \"scores\": [88, 92, 76]\n",
    "}\n",
    "\n",
    "student3 = {\n",
    "    \"name\": \"Ali\",\n",
    "    \"age\": 19,\n",
    "    \"subjects\": [\"Math\", \"History\", \"Physics\"],\n",
    "    \"scores\": [94, 82, 88]\n",
    "}\n",
    "\n",
    "# Step 2: Data Manipulation\n",
    "# a) Calculate and store the average score for each student\n",
    "for student in [student1, student2, student3]:\n",
    "    student[\"average_score\"] = sum(student[\"scores\"]) / len(student[\"scores\"])\n",
    "\n",
    "# b) Find the student with the highest average score and print their name\n",
    "highest_average_student = max([student1, student2, student3], key=lambda x: x[\"average_score\"])\n",
    "print(\"Student with the highest average score:\", highest_average_student[\"name\"])\n",
    "\n",
    "# c) Update student 2's age to 18\n",
    "student2[\"age\"] = 18\n",
    "\n",
    "# d) Add \"Geography\" to student 3's list of subjects and assign a score of 85\n",
    "student3[\"subjects\"].append(\"Geography\")\n",
    "student3[\"scores\"].append(85)\n",
    "\n",
    "# Step 3: Data Preparation\n",
    "# a) Create a tuple for each student that contains the name, age, and the subjects they are enrolled in\n",
    "student1_tuple = (student1[\"name\"], student1[\"age\"], student1[\"subjects\"])\n",
    "student2_tuple = (student2[\"name\"], student2[\"age\"], student2[\"subjects\"])\n",
    "student3_tuple = (student3[\"name\"], student3[\"age\"], student3[\"subjects\"])\n",
    "\n",
    "# b) Create a set that contains all unique subjects across all students\n",
    "all_subjects = set()\n",
    "for student in [student1, student2, student3]:\n",
    "    all_subjects.update(student[\"subjects\"])\n",
    "\n",
    "# Print the results\n",
    "print(\"Student 2's updated age:\", student2[\"age\"])\n",
    "print(\"Student 3's subjects after adding Geography:\", student3[\"subjects\"])\n",
    "print(\"Tuples for each student:\", student1_tuple, student2_tuple, student3_tuple)\n",
    "print(\"Set of unique subjects across all students:\", all_subjects)\n"
   ]
  },
  {
   "cell_type": "code",
   "execution_count": null,
   "id": "47ad8812",
   "metadata": {},
   "outputs": [],
   "source": []
  }
 ],
 "metadata": {
  "kernelspec": {
   "display_name": "Python 3 (ipykernel)",
   "language": "python",
   "name": "python3"
  },
  "language_info": {
   "codemirror_mode": {
    "name": "ipython",
    "version": 3
   },
   "file_extension": ".py",
   "mimetype": "text/x-python",
   "name": "python",
   "nbconvert_exporter": "python",
   "pygments_lexer": "ipython3",
   "version": "3.11.5"
  }
 },
 "nbformat": 4,
 "nbformat_minor": 5
}
