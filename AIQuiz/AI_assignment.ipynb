{
 "cells": [
  {
   "cell_type": "code",
   "execution_count": 49,
   "id": "b6f6cdb1",
   "metadata": {},
   "outputs": [],
   "source": [
    "import pandas as pd"
   ]
  },
  {
   "cell_type": "code",
   "execution_count": 50,
   "id": "1df56ba1",
   "metadata": {},
   "outputs": [],
   "source": [
    "def read():\n",
    "    df=pd.read_csv('frauddataset.csv')\n",
    "#df=pd.read_csv('frauddataset.csv')"
   ]
  },
  {
   "cell_type": "code",
   "execution_count": null,
   "id": "ed4cccfc",
   "metadata": {},
   "outputs": [],
   "source": []
  },
  {
   "cell_type": "code",
   "execution_count": null,
   "id": "92608409",
   "metadata": {},
   "outputs": [],
   "source": []
  },
  {
   "cell_type": "code",
   "execution_count": 51,
   "id": "1d737d3c",
   "metadata": {},
   "outputs": [],
   "source": [
    "def show_start():\n",
    "    df.head(5)\n",
    "# df.head(50)"
   ]
  },
  {
   "cell_type": "code",
   "execution_count": 52,
   "id": "f039fe20",
   "metadata": {},
   "outputs": [],
   "source": [
    "def show_end():\n",
    "    df.tail()"
   ]
  },
  {
   "cell_type": "code",
   "execution_count": 53,
   "id": "ea5a0280",
   "metadata": {},
   "outputs": [],
   "source": [
    "def show_info():\n",
    "    df.info()"
   ]
  },
  {
   "cell_type": "code",
   "execution_count": 54,
   "id": "7ace9f5a",
   "metadata": {},
   "outputs": [],
   "source": [
    "def show_null_val():\n",
    "    df.isnull().sum()"
   ]
  },
  {
   "cell_type": "code",
   "execution_count": 55,
   "id": "8c99d653",
   "metadata": {},
   "outputs": [],
   "source": [
    "#import numpy as np\n",
    "#df.replace(\"?\",np,nan,inplace=True)\n",
    "#it will replace ? with NAN\n",
    "#cx=df['amount'].astype('float').mean()\n",
    "#df['amount'].replace(np.nan,cx,inplace=True)"
   ]
  },
  {
   "cell_type": "code",
   "execution_count": 56,
   "id": "94847860",
   "metadata": {
    "scrolled": true
   },
   "outputs": [],
   "source": [
    "def graph():\n",
    "    df_fraud = df.loc[df.fraud == 1] \n",
    "    df_non_fraud = df.loc[df.fraud == 0]\n",
    "    import seaborn as sns\n",
    "    sns.countplot(x='fraud',data=df)\n",
    "    import matplotlib.pyplot as plt\n",
    "    plt.title(\"Count of Fraudulent Payments\")\n",
    "    plt.show()\n",
    "    print(\"Number of normal examples: \",df_non_fraud.fraud.count())\n",
    "    print(\"Number of fradulent examples: \",df_fraud.fraud.count())"
   ]
  },
  {
   "cell_type": "code",
   "execution_count": 57,
   "id": "f0f31124",
   "metadata": {},
   "outputs": [],
   "source": [
    "# #Taking Mean Values per category amount fraud\n",
    "# print(\"Mean feature values per category\",df.groupby('category')['amount','fraud'].mean())"
   ]
  },
  {
   "cell_type": "code",
   "execution_count": 58,
   "id": "777fada1",
   "metadata": {},
   "outputs": [],
   "source": [
    "#import numpy as np\n",
    "#df['amount']=df['amount'].astype('int')\n",
    "#df\n",
    "#b=np.linspace=(df['amount'].min(),df['amount'].max())\n",
    "#b\n",
    "#lbl = ['LOW','AVERAGE','HIGH']\n",
    "#df['amount-bin']=pd.cut(df['amount'],b, labels=lbl,include_lowest=True)\n",
    "#plt.pie(df['amount'].value_counts(),explode=[0,0.1,0.1],shadow=True,labels=lbl\n",
    "#              ,colors=['yellow','red','blue']\n",
    "#              ,autopct='%1.1f%%',startangle=90)"
   ]
  },
  {
   "cell_type": "code",
   "execution_count": 59,
   "id": "0f95e04f",
   "metadata": {},
   "outputs": [
    {
     "name": "stdout",
     "output_type": "stream",
     "text": [
      "Unique zipCodeOri values:  1\n",
      "Unique zipMerhchant values:  1\n"
     ]
    }
   ],
   "source": [
    "print(\"Unique zipCodeOri values: \",df.zipcodeOri.nunique())\n",
    "print(\"Unique zipMerhchant values: \",df.zipMerchant.nunique())\n",
    "#data_reduced=df.drop(['zipcodeOri','zipMerchant'],axis=1)"
   ]
  },
  {
   "cell_type": "code",
   "execution_count": 60,
   "id": "1e942934",
   "metadata": {},
   "outputs": [
    {
     "data": {
      "text/html": [
       "<div>\n",
       "<style scoped>\n",
       "    .dataframe tbody tr th:only-of-type {\n",
       "        vertical-align: middle;\n",
       "    }\n",
       "\n",
       "    .dataframe tbody tr th {\n",
       "        vertical-align: top;\n",
       "    }\n",
       "\n",
       "    .dataframe thead th {\n",
       "        text-align: right;\n",
       "    }\n",
       "</style>\n",
       "<table border=\"1\" class=\"dataframe\">\n",
       "  <thead>\n",
       "    <tr style=\"text-align: right;\">\n",
       "      <th></th>\n",
       "      <th>step</th>\n",
       "      <th>amount</th>\n",
       "      <th>fraud</th>\n",
       "    </tr>\n",
       "  </thead>\n",
       "  <tbody>\n",
       "    <tr>\n",
       "      <th>step</th>\n",
       "      <td>1.000000</td>\n",
       "      <td>-0.007961</td>\n",
       "      <td>-0.011898</td>\n",
       "    </tr>\n",
       "    <tr>\n",
       "      <th>amount</th>\n",
       "      <td>-0.007961</td>\n",
       "      <td>1.000000</td>\n",
       "      <td>0.489967</td>\n",
       "    </tr>\n",
       "    <tr>\n",
       "      <th>fraud</th>\n",
       "      <td>-0.011898</td>\n",
       "      <td>0.489967</td>\n",
       "      <td>1.000000</td>\n",
       "    </tr>\n",
       "  </tbody>\n",
       "</table>\n",
       "</div>"
      ],
      "text/plain": [
       "            step    amount     fraud\n",
       "step    1.000000 -0.007961 -0.011898\n",
       "amount -0.007961  1.000000  0.489967\n",
       "fraud  -0.011898  0.489967  1.000000"
      ]
     },
     "execution_count": 60,
     "metadata": {},
     "output_type": "execute_result"
    }
   ],
   "source": [
    "df.corr()"
   ]
  },
  {
   "cell_type": "code",
   "execution_count": null,
   "id": "f9a2e96e",
   "metadata": {},
   "outputs": [],
   "source": []
  },
  {
   "cell_type": "code",
   "execution_count": 61,
   "id": "3899c9d7",
   "metadata": {},
   "outputs": [],
   "source": [
    "# pip install plotly"
   ]
  },
  {
   "cell_type": "code",
   "execution_count": 62,
   "id": "75809aa4",
   "metadata": {},
   "outputs": [],
   "source": [
    "import plotly.express as px\n",
    "\n",
    "def plot():\n",
    "    fig = px.scatter(df, x=\"category\", y=\"amount\")\n",
    "    fig.show()\n"
   ]
  },
  {
   "cell_type": "code",
   "execution_count": 63,
   "id": "a0c4bed5",
   "metadata": {},
   "outputs": [],
   "source": [
    "#scatter plots support facetting\n",
    "def plot_face():\n",
    "    fig = px.scatter(df, x=\"fraud\", y=\"amount\",facet_row='gender')\n",
    "    fig.show()"
   ]
  },
  {
   "cell_type": "code",
   "execution_count": 64,
   "id": "7fbc066e",
   "metadata": {},
   "outputs": [],
   "source": [
    "def plot_line():\n",
    "    #line plot in pyplot\n",
    "    fig=px.line(df,x=\"step\",y=\"amount\",title=\"Transaction Amount By numerous steps\")\n",
    "    fig.show()"
   ]
  },
  {
   "cell_type": "code",
   "execution_count": 65,
   "id": "ffc077ab",
   "metadata": {},
   "outputs": [],
   "source": [
    "#box plot in plotly\n",
    "def plot_box():\n",
    "    fig=px.box(df,y='age')\n",
    "    fig.show()"
   ]
  },
  {
   "cell_type": "code",
   "execution_count": 66,
   "id": "d58a2f36",
   "metadata": {},
   "outputs": [],
   "source": [
    "# def scatter_3d():\n",
    "#     fig = px.scatter_3d(df, x='fraud', y='amount', z='age',\n",
    "#                     color='customer', title='3D Scatter Plot')\n",
    "#     fig.show()\n"
   ]
  },
  {
   "cell_type": "code",
   "execution_count": null,
   "id": "aabe5ba2",
   "metadata": {},
   "outputs": [],
   "source": []
  }
 ],
 "metadata": {
  "kernelspec": {
   "display_name": "Python 3 (ipykernel)",
   "language": "python",
   "name": "python3"
  },
  "language_info": {
   "codemirror_mode": {
    "name": "ipython",
    "version": 3
   },
   "file_extension": ".py",
   "mimetype": "text/x-python",
   "name": "python",
   "nbconvert_exporter": "python",
   "pygments_lexer": "ipython3",
   "version": "3.9.7"
  }
 },
 "nbformat": 4,
 "nbformat_minor": 5
}
