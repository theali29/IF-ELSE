{
 "cells": [
  {
   "cell_type": "code",
   "execution_count": 3,
   "id": "9fafa11c",
   "metadata": {},
   "outputs": [
    {
     "name": "stdout",
     "output_type": "stream",
     "text": [
      "<class 'numpy.str_'>\n",
      "[2 2 2 2 2 2 2 2 2 2 2 2 2 2 2 2 2 2 2 2 2 2 2 2 2 2 2 2 2 2 2 2 2 2 2 2 2\n",
      " 2 2 2 2 2 2 2 2 2 2 2 2 2 4 4 4 4 4 4 4 4 4 4 4 4 4 4 4 4 4 4 4 4 4 4 4 4\n",
      " 4 4 4 4 4 4 4 4 4 4 4 4 4 4 4 4 4 4 4 4 4 4 4 4 4 4]\n"
     ]
    },
    {
     "data": {
      "text/plain": [
       "500"
      ]
     },
     "execution_count": 3,
     "metadata": {},
     "output_type": "execute_result"
    }
   ],
   "source": [
    "import numpy as np\n",
    "import math\n",
    "import operator\n",
    "import pandas\n",
    "with open('trainX.txt') as trainF:\n",
    "    trainX = trainF.readlines()\n",
    "    \n",
    "with open('trainY.txt') as trainR:\n",
    "    trainY = trainR.readlines()\n",
    "    \n",
    "with open('testX.txt') as tstP:\n",
    "    testX =  tstP.readlines()\n",
    "    \n",
    "with open('testY.txt') as tstR:\n",
    "    testY = tstR.readlines()\n",
    "    \n",
    "trainx = [i.split('\\n' , 1)[0] for i in trainX]\n",
    "trainy = [j.split('\\n' , 1)[0] for j in trainY]\n",
    "#print(type(trainx[0]))\n",
    "txx = np.asarray(trainx)\n",
    "#traindata = txx.astype(int)\n",
    "xrr = np.asarray(trainy[0:-2])\n",
    "trainResultsx = xrr.astype(int)\n",
    "trainResults = xrr.astype(int) # images\n",
    "\n",
    "#txx[0].append(trainResults[0])\n",
    "print(type(txx[0]))\n",
    "testx = [k.split('\\n' , 1)[0] for k in testX]\n",
    "testy = [l.split('\\n' , 1)[0] for l in testY]\n",
    "\n",
    "yrr = np.asarray(testy[0:-2])\n",
    "testResults = yrr.astype(int) # classes\n",
    "print(testResults)\n",
    "len(trainResults) "
   ]
  },
  {
   "cell_type": "code",
   "execution_count": 4,
   "id": "dca485a3",
   "metadata": {},
   "outputs": [],
   "source": [
    "trainX01 =[]\n",
    "for i in txx:\n",
    "    t = i.split(' ')\n",
    "    t= np.asarray(t[1:])\n",
    "    t1 = t.astype(int)\n",
    "    trainX01.append(t1)"
   ]
  },
  {
   "cell_type": "code",
   "execution_count": 34,
   "id": "0273953c",
   "metadata": {},
   "outputs": [
    {
     "name": "stdout",
     "output_type": "stream",
     "text": [
      "Accuracy: 100.0\n"
     ]
    }
   ],
   "source": [
    "import numpy as np\n",
    "\n",
    "\n",
    "def euclidean_distance(x1, x2):\n",
    "    return np.sqrt(np.sum((x1 - x2) ** 2))\n",
    "\n",
    "def k_nearest_neighbors(train_X, train_Y, test_X, k):\n",
    "    predictions = []\n",
    "    for test_sample in test_X:\n",
    "        distances = []\n",
    "        for i, train_sample in enumerate(train_X):\n",
    "            distance = euclidean_distance(test_sample, train_sample)\n",
    "            distances.append((distance, train_Y[i]))\n",
    "        distances.sort(key=lambda x: x[0])\n",
    "        neighbors = distances[:k]\n",
    "        labels = [neighbor[1] for neighbor in neighbors]\n",
    "        prediction = np.argmax(np.bincount(labels))\n",
    "        predictions.append(prediction)\n",
    "    return predictions\n",
    "\n",
    "train_X = np.loadtxt('trainX.txt')\n",
    "train_Y = np.loadtxt('trainY.txt')\n",
    "\n",
    "test_X = np.loadtxt('testX.txt')\n",
    "test_Y = np.loadtxt('testY.txt')\n",
    "\n",
    "k = 3\n",
    "\n",
    "predictions = k_nearest_neighbors(train_X, train_Y, test_X, k)\n",
    "\n",
    "accuracy = np.sum(predictions == test_Y) / len(test_Y)*100\n",
    "\n",
    "print(\"Accuracy:\", accuracy)\n"
   ]
  },
  {
   "cell_type": "code",
   "execution_count": null,
   "id": "73ae0e1d",
   "metadata": {},
   "outputs": [],
   "source": []
  }
 ],
 "metadata": {
  "kernelspec": {
   "display_name": "Python 3 (ipykernel)",
   "language": "python",
   "name": "python3"
  },
  "language_info": {
   "codemirror_mode": {
    "name": "ipython",
    "version": 3
   },
   "file_extension": ".py",
   "mimetype": "text/x-python",
   "name": "python",
   "nbconvert_exporter": "python",
   "pygments_lexer": "ipython3",
   "version": "3.9.7"
  }
 },
 "nbformat": 4,
 "nbformat_minor": 5
}
