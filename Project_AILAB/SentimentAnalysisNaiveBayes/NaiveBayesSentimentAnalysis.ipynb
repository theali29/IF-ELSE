{
 "cells": [
  {
   "cell_type": "code",
   "execution_count": 1,
   "id": "9840b203",
   "metadata": {},
   "outputs": [
    {
     "name": "stdout",
     "output_type": "stream",
     "text": [
      "Requirement already satisfied: nltk in c:\\users\\dell\\anaconda3\\lib\\site-packages (3.6.5)\n",
      "Requirement already satisfied: click in c:\\users\\dell\\anaconda3\\lib\\site-packages (from nltk) (8.0.3)\n",
      "Requirement already satisfied: joblib in c:\\users\\dell\\anaconda3\\lib\\site-packages (from nltk) (1.1.0)\n",
      "Requirement already satisfied: regex>=2021.8.3 in c:\\users\\dell\\anaconda3\\lib\\site-packages (from nltk) (2021.8.3)\n",
      "Requirement already satisfied: tqdm in c:\\users\\dell\\anaconda3\\lib\\site-packages (from nltk) (4.62.3)\n",
      "Requirement already satisfied: colorama in c:\\users\\dell\\anaconda3\\lib\\site-packages (from click->nltk) (0.4.4)\n",
      "Note: you may need to restart the kernel to use updated packages.\n"
     ]
    }
   ],
   "source": [
    "#pip install nltk"
   ]
  },
  {
   "cell_type": "code",
   "execution_count": 2,
   "id": "df427ee2",
   "metadata": {},
   "outputs": [
    {
     "name": "stderr",
     "output_type": "stream",
     "text": [
      "[nltk_data] Downloading package punkt to\n",
      "[nltk_data]     C:\\Users\\DELL\\AppData\\Roaming\\nltk_data...\n",
      "[nltk_data]   Package punkt is already up-to-date!\n",
      "[nltk_data] Downloading package stopwords to\n",
      "[nltk_data]     C:\\Users\\DELL\\AppData\\Roaming\\nltk_data...\n",
      "[nltk_data]   Package stopwords is already up-to-date!\n",
      "[nltk_data] Downloading package wordnet to\n",
      "[nltk_data]     C:\\Users\\DELL\\AppData\\Roaming\\nltk_data...\n",
      "[nltk_data]   Package wordnet is already up-to-date!\n",
      "[nltk_data] Downloading package omw-1.4 to\n",
      "[nltk_data]     C:\\Users\\DELL\\AppData\\Roaming\\nltk_data...\n",
      "[nltk_data]   Package omw-1.4 is already up-to-date!\n"
     ]
    },
    {
     "data": {
      "text/plain": [
       "True"
      ]
     },
     "execution_count": 2,
     "metadata": {},
     "output_type": "execute_result"
    }
   ],
   "source": [
    "import nltk\n",
    "nltk.download('punkt')\n",
    "nltk.download('stopwords')\n",
    "nltk.download('wordnet')\n",
    "nltk.download('omw-1.4')\n"
   ]
  },
  {
   "cell_type": "code",
   "execution_count": 3,
   "id": "726b63d2",
   "metadata": {},
   "outputs": [],
   "source": [
    "from collections import defaultdict\n",
    "import math\n",
    "\n",
    "from nltk.corpus import stopwords\n",
    "from nltk.stem import WordNetLemmatizer\n",
    "from nltk.tokenize import RegexpTokenizer\n",
    "import pandas as pd\n"
   ]
  },
  {
   "cell_type": "code",
   "execution_count": 27,
   "id": "78f5c8e6",
   "metadata": {},
   "outputs": [],
   "source": [
    "df = pd.read_csv('SentimentAnalysistask.csv')"
   ]
  },
  {
   "cell_type": "code",
   "execution_count": 28,
   "id": "d8da18ee",
   "metadata": {},
   "outputs": [],
   "source": [
    "lemmatizer = WordNetLemmatizer()\n",
    "\n",
    "# word_counts[word][0] = occurrences of word in negative reviews\n",
    "# word_counts[word][1] = occurrences of word in positive reviews\n",
    "word_counts = defaultdict(lambda: [0, 0]) # returns [0, 0] by default if the key does not exist\n",
    "\n",
    "STOP_WORDS = stopwords.words('english')\n",
    "\n",
    "tokenizer = RegexpTokenizer(r'\\w+')\n",
    "\n",
    "sentiment = list(df['sentiment'])\n",
    "\n",
    "done =  0\n",
    "\n",
    "total_positive_words = 0\n",
    "total_negative_words = 0\n",
    "\n",
    "# keep track of the number of positive and negative reviews (prior probabilities)\n",
    "total_positive_reviews = 0\n",
    "total_negative_reviews = 0\n"
   ]
  },
  {
   "cell_type": "code",
   "execution_count": 38,
   "id": "cb0f535e",
   "metadata": {},
   "outputs": [
    {
     "name": "stdout",
     "output_type": "stream",
     "text": [
      "4000\n",
      "12000\n"
     ]
    }
   ],
   "source": [
    "for i, review in enumerate(list(df['review'])):\n",
    "    if sentiment[i] == 'negative':\n",
    "        total_negative_reviews += 1\n",
    "    else:\n",
    "        total_positive_reviews += 1\n",
    "    \n",
    "    for token in tokenizer.tokenize(review):\n",
    "        token = token.lower()\n",
    "        token = lemmatizer.lemmatize(token)\n",
    "        if token not in STOP_WORDS:\n",
    "            if sentiment[i] == 'positive':\n",
    "                word_counts[token][1] += 1\n",
    "                total_positive_words += 1\n",
    "            else:\n",
    "                word_counts[token][0] += 1\n",
    "                total_negative_words += 1\n",
    "print(total_positive_reviews)\n",
    "print(total_negative_reviews)"
   ]
  },
  {
   "cell_type": "code",
   "execution_count": 39,
   "id": "bfa094b3",
   "metadata": {},
   "outputs": [],
   "source": [
    "word_counts = sorted(word_counts.items(),  key=lambda x : x[1][0] + x[1][1], reverse=True)[:5000]\n"
   ]
  },
  {
   "cell_type": "code",
   "execution_count": 40,
   "id": "b4b89a14",
   "metadata": {},
   "outputs": [],
   "source": [
    "word_counts = defaultdict(lambda: [0, 0], word_counts)\n"
   ]
  },
  {
   "cell_type": "code",
   "execution_count": 41,
   "id": "624feeaf",
   "metadata": {},
   "outputs": [],
   "source": [
    "def calculate_word_probability(word, sentiment):\n",
    "    if sentiment == 'positive':\n",
    "        return math.log((word_counts[word][1] + 1) / (total_positive_words + 5000))\n",
    "    else:\n",
    "        return math.log((word_counts[word][0] + 1) / (total_negative_words + 5000))\n"
   ]
  },
  {
   "cell_type": "code",
   "execution_count": 43,
   "id": "5dd7b8d8",
   "metadata": {},
   "outputs": [],
   "source": [
    "def calculate_review_probability(review, sentiment):\n",
    "    if sentiment == 'positive':\n",
    "        probability = math.log(total_positive_reviews / len(df))\n",
    "        \n",
    "    else:\n",
    "        probability = math.log(total_negative_reviews / len(df))\n",
    "    \n",
    "    for token in tokenizer.tokenize(review):\n",
    "        token = token.lower()\n",
    "        token = lemmatizer.lemmatize(token)\n",
    "        if token not in STOP_WORDS:\n",
    "            probability += calculate_word_probability(token, sentiment)\n",
    "    return probability\n"
   ]
  },
  {
   "cell_type": "code",
   "execution_count": 60,
   "id": "8d3b2dbf",
   "metadata": {},
   "outputs": [],
   "source": [
    "def predict(review):\n",
    "    if calculate_review_probability(review, 'negative') > calculate_review_probability(review, 'positive'):\n",
    "        return 'negative'\n",
    "    else:\n",
    "        return 'positive'\n"
   ]
  },
  {
   "cell_type": "code",
   "execution_count": 62,
   "id": "1b36f203",
   "metadata": {},
   "outputs": [
    {
     "name": "stdout",
     "output_type": "stream",
     "text": [
      "negative\n",
      "negative\n"
     ]
    }
   ],
   "source": [
    "print(predict('Excellent'))\n",
    "print(predict('Not recommended'))\n"
   ]
  },
  {
   "cell_type": "code",
   "execution_count": 63,
   "id": "29464a71",
   "metadata": {},
   "outputs": [],
   "source": [
    "correct  = 0\n",
    "incorrect = 0\n",
    "sentiments = list(df['sentiment'])\n",
    "for i, text in enumerate(list(df['review'])):\n",
    "    if predict(text) == sentiments[i]:\n",
    "        correct += 1\n",
    "    else:\n",
    "        incorrect += 1\n"
   ]
  },
  {
   "cell_type": "code",
   "execution_count": 64,
   "id": "7d258d3a",
   "metadata": {},
   "outputs": [
    {
     "name": "stdout",
     "output_type": "stream",
     "text": [
      "0.0\n"
     ]
    }
   ],
   "source": [
    "print(correct / (correct + incorrect))\n"
   ]
  },
  {
   "cell_type": "code",
   "execution_count": null,
   "id": "70d0bbb2",
   "metadata": {},
   "outputs": [],
   "source": []
  }
 ],
 "metadata": {
  "kernelspec": {
   "display_name": "Python 3 (ipykernel)",
   "language": "python",
   "name": "python3"
  },
  "language_info": {
   "codemirror_mode": {
    "name": "ipython",
    "version": 3
   },
   "file_extension": ".py",
   "mimetype": "text/x-python",
   "name": "python",
   "nbconvert_exporter": "python",
   "pygments_lexer": "ipython3",
   "version": "3.9.7"
  }
 },
 "nbformat": 4,
 "nbformat_minor": 5
}
